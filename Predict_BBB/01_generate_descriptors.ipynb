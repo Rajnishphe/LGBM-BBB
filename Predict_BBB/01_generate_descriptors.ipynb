{
 "cells": [
  {
   "cell_type": "code",
   "execution_count": 4,
   "id": "80d057c5-6817-490e-ad14-dd746a6c9a4a",
   "metadata": {},
   "outputs": [],
   "source": [
    "import pandas as pd\n",
    "from rdkit import Chem\n",
    "from mordred import Calculator, descriptors"
   ]
  },
  {
   "cell_type": "code",
   "execution_count": 8,
   "id": "f51aea76-53b1-4e72-99f0-111bf38d4de3",
   "metadata": {},
   "outputs": [
    {
     "name": "stdout",
     "output_type": "stream",
     "text": [
      "RDKit version: 2022.09.5\n",
      "Mordred version: 1.2.0\n"
     ]
    }
   ],
   "source": [
    "import rdkit\n",
    "import mordred\n",
    "print(\"RDKit version:\", rdkit.__version__)\n",
    "print(\"Mordred version:\", mordred.__version__)"
   ]
  },
  {
   "cell_type": "code",
   "execution_count": 10,
   "id": "ece19ea2-315e-4f93-a3b6-d06c59c06999",
   "metadata": {},
   "outputs": [],
   "source": [
    "df = pd.read_csv('B3DB_classification.tsv', sep='\\t')"
   ]
  },
  {
   "cell_type": "code",
   "execution_count": 12,
   "id": "f0af67a8-bb8d-4c5b-84b9-9f83b4512d35",
   "metadata": {},
   "outputs": [
    {
     "data": {
      "text/html": [
       "<div>\n",
       "<style scoped>\n",
       "    .dataframe tbody tr th:only-of-type {\n",
       "        vertical-align: middle;\n",
       "    }\n",
       "\n",
       "    .dataframe tbody tr th {\n",
       "        vertical-align: top;\n",
       "    }\n",
       "\n",
       "    .dataframe thead th {\n",
       "        text-align: right;\n",
       "    }\n",
       "</style>\n",
       "<table border=\"1\" class=\"dataframe\">\n",
       "  <thead>\n",
       "    <tr style=\"text-align: right;\">\n",
       "      <th></th>\n",
       "      <th>NO.</th>\n",
       "      <th>compound_name</th>\n",
       "      <th>IUPAC_name</th>\n",
       "      <th>SMILES</th>\n",
       "      <th>CID</th>\n",
       "      <th>logBB</th>\n",
       "      <th>BBB+/BBB-</th>\n",
       "      <th>Inchi</th>\n",
       "      <th>threshold</th>\n",
       "      <th>reference</th>\n",
       "      <th>group</th>\n",
       "      <th>comments</th>\n",
       "    </tr>\n",
       "  </thead>\n",
       "  <tbody>\n",
       "    <tr>\n",
       "      <th>0</th>\n",
       "      <td>1</td>\n",
       "      <td>sulphasalazine</td>\n",
       "      <td>2-hydroxy-5-[[4-(pyridin-2-ylsulfamoyl)phenyl]...</td>\n",
       "      <td>O=C(O)c1cc(N=Nc2ccc(S(=O)(=O)Nc3ccccn3)cc2)ccc1O</td>\n",
       "      <td>5339.0</td>\n",
       "      <td>-2.69</td>\n",
       "      <td>BBB-</td>\n",
       "      <td>InChI=1S/C18H14N4O5S/c23-16-9-6-13(11-15(16)18...</td>\n",
       "      <td>NaN</td>\n",
       "      <td>R2|R2|R25|R46|</td>\n",
       "      <td>A</td>\n",
       "      <td>NaN</td>\n",
       "    </tr>\n",
       "    <tr>\n",
       "      <th>1</th>\n",
       "      <td>2</td>\n",
       "      <td>moxalactam</td>\n",
       "      <td>7-[[2-carboxy-2-(4-hydroxyphenyl)acetyl]amino]...</td>\n",
       "      <td>COC1(NC(=O)C(C(=O)O)c2ccc(O)cc2)C(=O)N2C(C(=O)...</td>\n",
       "      <td>3889.0</td>\n",
       "      <td>-2.52</td>\n",
       "      <td>BBB-</td>\n",
       "      <td>InChI=1S/C20H20N6O9S/c1-25-19(22-23-24-25)36-8...</td>\n",
       "      <td>NaN</td>\n",
       "      <td>R25|</td>\n",
       "      <td>A</td>\n",
       "      <td>NaN</td>\n",
       "    </tr>\n",
       "  </tbody>\n",
       "</table>\n",
       "</div>"
      ],
      "text/plain": [
       "   NO.   compound_name                                         IUPAC_name  \\\n",
       "0    1  sulphasalazine  2-hydroxy-5-[[4-(pyridin-2-ylsulfamoyl)phenyl]...   \n",
       "1    2      moxalactam  7-[[2-carboxy-2-(4-hydroxyphenyl)acetyl]amino]...   \n",
       "\n",
       "                                              SMILES     CID  logBB BBB+/BBB-  \\\n",
       "0   O=C(O)c1cc(N=Nc2ccc(S(=O)(=O)Nc3ccccn3)cc2)ccc1O  5339.0  -2.69      BBB-   \n",
       "1  COC1(NC(=O)C(C(=O)O)c2ccc(O)cc2)C(=O)N2C(C(=O)...  3889.0  -2.52      BBB-   \n",
       "\n",
       "                                               Inchi  threshold  \\\n",
       "0  InChI=1S/C18H14N4O5S/c23-16-9-6-13(11-15(16)18...        NaN   \n",
       "1  InChI=1S/C20H20N6O9S/c1-25-19(22-23-24-25)36-8...        NaN   \n",
       "\n",
       "        reference group comments  \n",
       "0  R2|R2|R25|R46|     A      NaN  \n",
       "1            R25|     A      NaN  "
      ]
     },
     "execution_count": 12,
     "metadata": {},
     "output_type": "execute_result"
    }
   ],
   "source": [
    "df.head(2)"
   ]
  },
  {
   "cell_type": "code",
   "execution_count": 14,
   "id": "bf91a720-0fa6-4fac-b34b-4722000879a1",
   "metadata": {},
   "outputs": [],
   "source": [
    "# Convert SMILES to RDKit Molecule objects\n",
    "df['mol'] = df['SMILES'].apply(Chem.MolFromSmiles)"
   ]
  },
  {
   "cell_type": "code",
   "execution_count": 16,
   "id": "b75dfe5b-ab9e-4fca-a08c-b9d55b499f4e",
   "metadata": {},
   "outputs": [],
   "source": [
    "# Drop invalid SMILES (where MolFromSmiles returns None)\n",
    "df = df[df['mol'].notnull()].reset_index(drop=True)"
   ]
  },
  {
   "cell_type": "code",
   "execution_count": 18,
   "id": "75bd24db-0677-4625-adb6-8ff5635e84e9",
   "metadata": {},
   "outputs": [
    {
     "data": {
      "text/plain": [
       "0       <rdkit.Chem.rdchem.Mol object at 0x000001BA5C9...\n",
       "1       <rdkit.Chem.rdchem.Mol object at 0x000001BA5C9...\n",
       "2       <rdkit.Chem.rdchem.Mol object at 0x000001BA5C9...\n",
       "3       <rdkit.Chem.rdchem.Mol object at 0x000001BA5C9...\n",
       "4       <rdkit.Chem.rdchem.Mol object at 0x000001BA5C9...\n",
       "                              ...                        \n",
       "7802    <rdkit.Chem.rdchem.Mol object at 0x000001BA5CA...\n",
       "7803    <rdkit.Chem.rdchem.Mol object at 0x000001BA5CA...\n",
       "7804    <rdkit.Chem.rdchem.Mol object at 0x000001BA5CA...\n",
       "7805    <rdkit.Chem.rdchem.Mol object at 0x000001BA5CA...\n",
       "7806    <rdkit.Chem.rdchem.Mol object at 0x000001BA5CA...\n",
       "Name: mol, Length: 7807, dtype: object"
      ]
     },
     "execution_count": 18,
     "metadata": {},
     "output_type": "execute_result"
    }
   ],
   "source": [
    "df['mol']"
   ]
  },
  {
   "cell_type": "code",
   "execution_count": 20,
   "id": "b46a956e-a017-4bac-b779-5f4334505b55",
   "metadata": {},
   "outputs": [],
   "source": [
    "# Initialize Mordred descriptor calculator\n",
    "calc = Calculator(descriptors, ignore_3D=True)"
   ]
  },
  {
   "cell_type": "code",
   "execution_count": 22,
   "id": "ab6ead84-b4e8-4d41-bc60-db3156a3eadb",
   "metadata": {},
   "outputs": [
    {
     "name": "stderr",
     "output_type": "stream",
     "text": [
      "  1%|▍                                                                             | 48/7807 [00:37<1:14:55,  1.73it/s]"
     ]
    },
    {
     "name": "stdout",
     "output_type": "stream",
     "text": [
      "C:\\Users\\vivek\\anaconda3\\envs\\rdkit-env\\lib\\site-packages\\numpy\\core\\fromnumeric.py:86: RuntimeWarning: overflow encountered in reduce\n",
      "  return ufunc.reduce(obj, axis, dtype, out, **passkwargs)\n"
     ]
    },
    {
     "name": "stderr",
     "output_type": "stream",
     "text": [
      "  2%|█▉                                                                             | 189/7807 [00:53<34:02,  3.73it/s]"
     ]
    },
    {
     "name": "stdout",
     "output_type": "stream",
     "text": [
      "C:\\Users\\vivek\\anaconda3\\envs\\rdkit-env\\lib\\site-packages\\numpy\\core\\fromnumeric.py:86: RuntimeWarning: overflow encountered in reduce\n",
      "  return ufunc.reduce(obj, axis, dtype, out, **passkwargs)\n",
      "C:\\Users\\vivek\\anaconda3\\envs\\rdkit-env\\lib\\site-packages\\numpy\\core\\fromnumeric.py:86: RuntimeWarning: overflow encountered in reduce\n",
      "  return ufunc.reduce(obj, axis, dtype, out, **passkwargs)\n",
      "C:\\Users\\vivek\\anaconda3\\envs\\rdkit-env\\lib\\site-packages\\numpy\\core\\fromnumeric.py:86: RuntimeWarning: overflow encountered in reduce\n",
      "  return ufunc.reduce(obj, axis, dtype, out, **passkwargs)\n"
     ]
    },
    {
     "name": "stderr",
     "output_type": "stream",
     "text": [
      "  3%|██▎                                                                            | 234/7807 [00:55<10:09, 12.42it/s]"
     ]
    },
    {
     "name": "stdout",
     "output_type": "stream",
     "text": [
      "C:\\Users\\vivek\\anaconda3\\envs\\rdkit-env\\lib\\site-packages\\numpy\\core\\fromnumeric.py:86: RuntimeWarning: overflow encountered in reduce\n",
      "  return ufunc.reduce(obj, axis, dtype, out, **passkwargs)\n"
     ]
    },
    {
     "name": "stderr",
     "output_type": "stream",
     "text": [
      " 14%|██████████▊                                                                   | 1084/7807 [02:05<18:59,  5.90it/s]"
     ]
    },
    {
     "name": "stdout",
     "output_type": "stream",
     "text": [
      "C:\\Users\\vivek\\anaconda3\\envs\\rdkit-env\\lib\\site-packages\\numpy\\core\\fromnumeric.py:86: RuntimeWarning: overflow encountered in reduce\n",
      "  return ufunc.reduce(obj, axis, dtype, out, **passkwargs)\n"
     ]
    },
    {
     "name": "stderr",
     "output_type": "stream",
     "text": [
      " 16%|████████████▍                                                                 | 1251/7807 [02:25<20:31,  5.32it/s]"
     ]
    },
    {
     "name": "stdout",
     "output_type": "stream",
     "text": [
      "C:\\Users\\vivek\\anaconda3\\envs\\rdkit-env\\lib\\site-packages\\numpy\\core\\fromnumeric.py:86: RuntimeWarning: overflow encountered in reduce\n",
      "  return ufunc.reduce(obj, axis, dtype, out, **passkwargs)\n"
     ]
    },
    {
     "name": "stderr",
     "output_type": "stream",
     "text": [
      " 16%|████████████▌                                                                 | 1254/7807 [02:26<19:22,  5.64it/s]"
     ]
    },
    {
     "name": "stdout",
     "output_type": "stream",
     "text": [
      "C:\\Users\\vivek\\anaconda3\\envs\\rdkit-env\\lib\\site-packages\\numpy\\core\\fromnumeric.py:86: RuntimeWarning: overflow encountered in reduce\n",
      "  return ufunc.reduce(obj, axis, dtype, out, **passkwargs)\n"
     ]
    },
    {
     "name": "stderr",
     "output_type": "stream",
     "text": [
      " 27%|█████████████████████▏                                                        | 2117/7807 [03:59<17:42,  5.36it/s]"
     ]
    },
    {
     "name": "stdout",
     "output_type": "stream",
     "text": [
      "C:\\Users\\vivek\\anaconda3\\envs\\rdkit-env\\lib\\site-packages\\numpy\\core\\fromnumeric.py:86: RuntimeWarning: overflow encountered in reduce\n",
      "  return ufunc.reduce(obj, axis, dtype, out, **passkwargs)\n"
     ]
    },
    {
     "name": "stderr",
     "output_type": "stream",
     "text": [
      " 28%|█████████████████████▋                                                        | 2174/7807 [04:06<13:51,  6.78it/s]"
     ]
    },
    {
     "name": "stdout",
     "output_type": "stream",
     "text": [
      "C:\\Users\\vivek\\anaconda3\\envs\\rdkit-env\\lib\\site-packages\\numpy\\core\\fromnumeric.py:86: RuntimeWarning: overflow encountered in reduce\n",
      "  return ufunc.reduce(obj, axis, dtype, out, **passkwargs)\n"
     ]
    },
    {
     "name": "stderr",
     "output_type": "stream",
     "text": [
      " 58%|████████████████████████████████████████████▉                                 | 4499/7807 [08:25<13:28,  4.09it/s]"
     ]
    },
    {
     "name": "stdout",
     "output_type": "stream",
     "text": [
      "C:\\Users\\vivek\\anaconda3\\envs\\rdkit-env\\lib\\site-packages\\numpy\\core\\fromnumeric.py:86: RuntimeWarning: overflow encountered in reduce\n",
      "  return ufunc.reduce(obj, axis, dtype, out, **passkwargs)\n"
     ]
    },
    {
     "name": "stderr",
     "output_type": "stream",
     "text": [
      " 60%|██████████████████████████████████████████████▊                               | 4683/7807 [08:44<07:14,  7.19it/s]"
     ]
    },
    {
     "name": "stdout",
     "output_type": "stream",
     "text": [
      "C:\\Users\\vivek\\anaconda3\\envs\\rdkit-env\\lib\\site-packages\\numpy\\core\\fromnumeric.py:86: RuntimeWarning: overflow encountered in reduce\n",
      "  return ufunc.reduce(obj, axis, dtype, out, **passkwargs)\n"
     ]
    },
    {
     "name": "stderr",
     "output_type": "stream",
     "text": [
      "100%|██████████████████████████████████████████████████████████████████████████████| 7807/7807 [15:16<00:00,  8.52it/s]\n"
     ]
    }
   ],
   "source": [
    "# Calculate descriptors\n",
    "desc_df = calc.pandas(df['mol'])"
   ]
  },
  {
   "cell_type": "code",
   "execution_count": 24,
   "id": "fbd98c6f-069b-4dae-a5b0-c692d59250ad",
   "metadata": {},
   "outputs": [],
   "source": [
    "df = pd.concat([df.drop(columns='mol'), desc_df], axis=1)"
   ]
  },
  {
   "cell_type": "code",
   "execution_count": 26,
   "id": "dfd7928f-72af-408f-9d6e-25a4810733cd",
   "metadata": {},
   "outputs": [
    {
     "data": {
      "text/html": [
       "<div>\n",
       "<style scoped>\n",
       "    .dataframe tbody tr th:only-of-type {\n",
       "        vertical-align: middle;\n",
       "    }\n",
       "\n",
       "    .dataframe tbody tr th {\n",
       "        vertical-align: top;\n",
       "    }\n",
       "\n",
       "    .dataframe thead th {\n",
       "        text-align: right;\n",
       "    }\n",
       "</style>\n",
       "<table border=\"1\" class=\"dataframe\">\n",
       "  <thead>\n",
       "    <tr style=\"text-align: right;\">\n",
       "      <th></th>\n",
       "      <th>NO.</th>\n",
       "      <th>compound_name</th>\n",
       "      <th>IUPAC_name</th>\n",
       "      <th>SMILES</th>\n",
       "      <th>CID</th>\n",
       "      <th>logBB</th>\n",
       "      <th>BBB+/BBB-</th>\n",
       "      <th>Inchi</th>\n",
       "      <th>threshold</th>\n",
       "      <th>reference</th>\n",
       "      <th>...</th>\n",
       "      <th>SRW10</th>\n",
       "      <th>TSRW10</th>\n",
       "      <th>MW</th>\n",
       "      <th>AMW</th>\n",
       "      <th>WPath</th>\n",
       "      <th>WPol</th>\n",
       "      <th>Zagreb1</th>\n",
       "      <th>Zagreb2</th>\n",
       "      <th>mZagreb1</th>\n",
       "      <th>mZagreb2</th>\n",
       "    </tr>\n",
       "  </thead>\n",
       "  <tbody>\n",
       "    <tr>\n",
       "      <th>0</th>\n",
       "      <td>1</td>\n",
       "      <td>sulphasalazine</td>\n",
       "      <td>2-hydroxy-5-[[4-(pyridin-2-ylsulfamoyl)phenyl]...</td>\n",
       "      <td>O=C(O)c1cc(N=Nc2ccc(S(=O)(=O)Nc3ccccn3)cc2)ccc1O</td>\n",
       "      <td>5339.0</td>\n",
       "      <td>-2.69</td>\n",
       "      <td>BBB-</td>\n",
       "      <td>InChI=1S/C18H14N4O5S/c23-16-9-6-13(11-15(16)18...</td>\n",
       "      <td>NaN</td>\n",
       "      <td>R2|R2|R25|R46|</td>\n",
       "      <td>...</td>\n",
       "      <td>10.171643</td>\n",
       "      <td>63.201012</td>\n",
       "      <td>398.068491</td>\n",
       "      <td>9.477821</td>\n",
       "      <td>2428</td>\n",
       "      <td>42</td>\n",
       "      <td>144.0</td>\n",
       "      <td>165.0</td>\n",
       "      <td>9.590278</td>\n",
       "      <td>6.097222</td>\n",
       "    </tr>\n",
       "    <tr>\n",
       "      <th>1</th>\n",
       "      <td>2</td>\n",
       "      <td>moxalactam</td>\n",
       "      <td>7-[[2-carboxy-2-(4-hydroxyphenyl)acetyl]amino]...</td>\n",
       "      <td>COC1(NC(=O)C(C(=O)O)c2ccc(O)cc2)C(=O)N2C(C(=O)...</td>\n",
       "      <td>3889.0</td>\n",
       "      <td>-2.52</td>\n",
       "      <td>BBB-</td>\n",
       "      <td>InChI=1S/C20H20N6O9S/c1-25-19(22-23-24-25)36-8...</td>\n",
       "      <td>NaN</td>\n",
       "      <td>R25|</td>\n",
       "      <td>...</td>\n",
       "      <td>10.893010</td>\n",
       "      <td>87.033695</td>\n",
       "      <td>520.101247</td>\n",
       "      <td>9.287522</td>\n",
       "      <td>4114</td>\n",
       "      <td>62</td>\n",
       "      <td>194.0</td>\n",
       "      <td>237.0</td>\n",
       "      <td>13.756944</td>\n",
       "      <td>7.916667</td>\n",
       "    </tr>\n",
       "    <tr>\n",
       "      <th>2</th>\n",
       "      <td>3</td>\n",
       "      <td>clioquinol</td>\n",
       "      <td>5-chloro-7-iodoquinolin-8-ol</td>\n",
       "      <td>Oc1c(I)cc(Cl)c2cccnc12</td>\n",
       "      <td>2788.0</td>\n",
       "      <td>-2.40</td>\n",
       "      <td>BBB-</td>\n",
       "      <td>InChI=1S/C9H5ClINO/c10-6-4-7(11)9(13)8-5(6)2-1...</td>\n",
       "      <td>NaN</td>\n",
       "      <td>R18|R26|R27|</td>\n",
       "      <td>...</td>\n",
       "      <td>9.618402</td>\n",
       "      <td>44.825548</td>\n",
       "      <td>304.910439</td>\n",
       "      <td>16.939469</td>\n",
       "      <td>218</td>\n",
       "      <td>21</td>\n",
       "      <td>68.0</td>\n",
       "      <td>81.0</td>\n",
       "      <td>4.805556</td>\n",
       "      <td>2.861111</td>\n",
       "    </tr>\n",
       "  </tbody>\n",
       "</table>\n",
       "<p>3 rows × 1625 columns</p>\n",
       "</div>"
      ],
      "text/plain": [
       "   NO.   compound_name                                         IUPAC_name  \\\n",
       "0    1  sulphasalazine  2-hydroxy-5-[[4-(pyridin-2-ylsulfamoyl)phenyl]...   \n",
       "1    2      moxalactam  7-[[2-carboxy-2-(4-hydroxyphenyl)acetyl]amino]...   \n",
       "2    3      clioquinol                       5-chloro-7-iodoquinolin-8-ol   \n",
       "\n",
       "                                              SMILES     CID  logBB BBB+/BBB-  \\\n",
       "0   O=C(O)c1cc(N=Nc2ccc(S(=O)(=O)Nc3ccccn3)cc2)ccc1O  5339.0  -2.69      BBB-   \n",
       "1  COC1(NC(=O)C(C(=O)O)c2ccc(O)cc2)C(=O)N2C(C(=O)...  3889.0  -2.52      BBB-   \n",
       "2                             Oc1c(I)cc(Cl)c2cccnc12  2788.0  -2.40      BBB-   \n",
       "\n",
       "                                               Inchi  threshold  \\\n",
       "0  InChI=1S/C18H14N4O5S/c23-16-9-6-13(11-15(16)18...        NaN   \n",
       "1  InChI=1S/C20H20N6O9S/c1-25-19(22-23-24-25)36-8...        NaN   \n",
       "2  InChI=1S/C9H5ClINO/c10-6-4-7(11)9(13)8-5(6)2-1...        NaN   \n",
       "\n",
       "        reference  ...      SRW10     TSRW10          MW        AMW  WPath  \\\n",
       "0  R2|R2|R25|R46|  ...  10.171643  63.201012  398.068491   9.477821   2428   \n",
       "1            R25|  ...  10.893010  87.033695  520.101247   9.287522   4114   \n",
       "2    R18|R26|R27|  ...   9.618402  44.825548  304.910439  16.939469    218   \n",
       "\n",
       "   WPol Zagreb1 Zagreb2   mZagreb1  mZagreb2  \n",
       "0    42   144.0   165.0   9.590278  6.097222  \n",
       "1    62   194.0   237.0  13.756944  7.916667  \n",
       "2    21    68.0    81.0   4.805556  2.861111  \n",
       "\n",
       "[3 rows x 1625 columns]"
      ]
     },
     "execution_count": 26,
     "metadata": {},
     "output_type": "execute_result"
    }
   ],
   "source": [
    "df.head(3)"
   ]
  },
  {
   "cell_type": "code",
   "execution_count": 28,
   "id": "a7f5c83a-95e2-4a48-9beb-81f67f73f865",
   "metadata": {},
   "outputs": [],
   "source": [
    "# Save descriptors\n",
    "df.to_csv(\"mordred_desc_B3DB.csv.csv\", index=False)  "
   ]
  },
  {
   "cell_type": "code",
   "execution_count": null,
   "id": "a69ab025-4afd-4bd6-9e64-0a886dd7ae67",
   "metadata": {},
   "outputs": [],
   "source": []
  }
 ],
 "metadata": {
  "kernelspec": {
   "display_name": "Python (rdkit-env)",
   "language": "python",
   "name": "rdkit-env"
  },
  "language_info": {
   "codemirror_mode": {
    "name": "ipython",
    "version": 3
   },
   "file_extension": ".py",
   "mimetype": "text/x-python",
   "name": "python",
   "nbconvert_exporter": "python",
   "pygments_lexer": "ipython3",
   "version": "3.7.1"
  }
 },
 "nbformat": 4,
 "nbformat_minor": 5
}
