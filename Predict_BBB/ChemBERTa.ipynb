{
 "cells": [
  {
   "cell_type": "code",
   "execution_count": 2,
   "id": "987c95d7-b0e7-477d-bd98-7284e320dfad",
   "metadata": {},
   "outputs": [],
   "source": [
    "import pandas as pd"
   ]
  },
  {
   "cell_type": "code",
   "execution_count": 4,
   "id": "17fccf9a-3936-4e49-a123-fb67c023c114",
   "metadata": {},
   "outputs": [],
   "source": [
    "df = pd.read_csv('B3DB_classification.tsv', sep='\\t')"
   ]
  },
  {
   "cell_type": "code",
   "execution_count": 6,
   "id": "ff63c805-13eb-4698-83ac-0ef2c41ca77f",
   "metadata": {},
   "outputs": [
    {
     "data": {
      "text/html": [
       "<div>\n",
       "<style scoped>\n",
       "    .dataframe tbody tr th:only-of-type {\n",
       "        vertical-align: middle;\n",
       "    }\n",
       "\n",
       "    .dataframe tbody tr th {\n",
       "        vertical-align: top;\n",
       "    }\n",
       "\n",
       "    .dataframe thead th {\n",
       "        text-align: right;\n",
       "    }\n",
       "</style>\n",
       "<table border=\"1\" class=\"dataframe\">\n",
       "  <thead>\n",
       "    <tr style=\"text-align: right;\">\n",
       "      <th></th>\n",
       "      <th>NO.</th>\n",
       "      <th>compound_name</th>\n",
       "      <th>IUPAC_name</th>\n",
       "      <th>SMILES</th>\n",
       "      <th>CID</th>\n",
       "      <th>logBB</th>\n",
       "      <th>BBB+/BBB-</th>\n",
       "      <th>Inchi</th>\n",
       "      <th>threshold</th>\n",
       "      <th>reference</th>\n",
       "      <th>group</th>\n",
       "      <th>comments</th>\n",
       "    </tr>\n",
       "  </thead>\n",
       "  <tbody>\n",
       "    <tr>\n",
       "      <th>0</th>\n",
       "      <td>1</td>\n",
       "      <td>sulphasalazine</td>\n",
       "      <td>2-hydroxy-5-[[4-(pyridin-2-ylsulfamoyl)phenyl]...</td>\n",
       "      <td>O=C(O)c1cc(N=Nc2ccc(S(=O)(=O)Nc3ccccn3)cc2)ccc1O</td>\n",
       "      <td>5339.0</td>\n",
       "      <td>-2.69</td>\n",
       "      <td>BBB-</td>\n",
       "      <td>InChI=1S/C18H14N4O5S/c23-16-9-6-13(11-15(16)18...</td>\n",
       "      <td>NaN</td>\n",
       "      <td>R2|R2|R25|R46|</td>\n",
       "      <td>A</td>\n",
       "      <td>NaN</td>\n",
       "    </tr>\n",
       "    <tr>\n",
       "      <th>1</th>\n",
       "      <td>2</td>\n",
       "      <td>moxalactam</td>\n",
       "      <td>7-[[2-carboxy-2-(4-hydroxyphenyl)acetyl]amino]...</td>\n",
       "      <td>COC1(NC(=O)C(C(=O)O)c2ccc(O)cc2)C(=O)N2C(C(=O)...</td>\n",
       "      <td>3889.0</td>\n",
       "      <td>-2.52</td>\n",
       "      <td>BBB-</td>\n",
       "      <td>InChI=1S/C20H20N6O9S/c1-25-19(22-23-24-25)36-8...</td>\n",
       "      <td>NaN</td>\n",
       "      <td>R25|</td>\n",
       "      <td>A</td>\n",
       "      <td>NaN</td>\n",
       "    </tr>\n",
       "    <tr>\n",
       "      <th>2</th>\n",
       "      <td>3</td>\n",
       "      <td>clioquinol</td>\n",
       "      <td>5-chloro-7-iodoquinolin-8-ol</td>\n",
       "      <td>Oc1c(I)cc(Cl)c2cccnc12</td>\n",
       "      <td>2788.0</td>\n",
       "      <td>-2.40</td>\n",
       "      <td>BBB-</td>\n",
       "      <td>InChI=1S/C9H5ClINO/c10-6-4-7(11)9(13)8-5(6)2-1...</td>\n",
       "      <td>NaN</td>\n",
       "      <td>R18|R26|R27|</td>\n",
       "      <td>A</td>\n",
       "      <td>NaN</td>\n",
       "    </tr>\n",
       "    <tr>\n",
       "      <th>3</th>\n",
       "      <td>4</td>\n",
       "      <td>bbcpd11 (cimetidine analog) (y-g13)</td>\n",
       "      <td>2-[2-[(3-bromopyridin-2-yl)methylsulfanyl]ethy...</td>\n",
       "      <td>CCNC(=NCCSCc1ncccc1Br)NC#N</td>\n",
       "      <td>14022517.0</td>\n",
       "      <td>-2.15</td>\n",
       "      <td>BBB-</td>\n",
       "      <td>InChI=1S/C12H16BrN5S/c1-2-15-12(18-9-14)17-6-7...</td>\n",
       "      <td>NaN</td>\n",
       "      <td>R2|R2|R8|R40|R2|R2|R2|R2|R18|R21|R25|R25|R26|R...</td>\n",
       "      <td>A</td>\n",
       "      <td>NaN</td>\n",
       "    </tr>\n",
       "    <tr>\n",
       "      <th>4</th>\n",
       "      <td>5</td>\n",
       "      <td>schembl614298</td>\n",
       "      <td>(2s,3s,4s,5r)-6-[[(4r,4ar,7s,7ar,12bs)-7-hydro...</td>\n",
       "      <td>CN1CC[C@]23c4c5ccc(OC6O[C@H](C(=O)O)[C@@H](O)[...</td>\n",
       "      <td>18595497.0</td>\n",
       "      <td>-2.15</td>\n",
       "      <td>BBB-</td>\n",
       "      <td>InChI=1S/C23H27NO9/c1-24-7-6-23-10-3-4-12(25)2...</td>\n",
       "      <td>NaN</td>\n",
       "      <td>R25|</td>\n",
       "      <td>A</td>\n",
       "      <td>NaN</td>\n",
       "    </tr>\n",
       "  </tbody>\n",
       "</table>\n",
       "</div>"
      ],
      "text/plain": [
       "   NO.                        compound_name  \\\n",
       "0    1                       sulphasalazine   \n",
       "1    2                           moxalactam   \n",
       "2    3                           clioquinol   \n",
       "3    4  bbcpd11 (cimetidine analog) (y-g13)   \n",
       "4    5                        schembl614298   \n",
       "\n",
       "                                          IUPAC_name  \\\n",
       "0  2-hydroxy-5-[[4-(pyridin-2-ylsulfamoyl)phenyl]...   \n",
       "1  7-[[2-carboxy-2-(4-hydroxyphenyl)acetyl]amino]...   \n",
       "2                       5-chloro-7-iodoquinolin-8-ol   \n",
       "3  2-[2-[(3-bromopyridin-2-yl)methylsulfanyl]ethy...   \n",
       "4  (2s,3s,4s,5r)-6-[[(4r,4ar,7s,7ar,12bs)-7-hydro...   \n",
       "\n",
       "                                              SMILES         CID  logBB  \\\n",
       "0   O=C(O)c1cc(N=Nc2ccc(S(=O)(=O)Nc3ccccn3)cc2)ccc1O      5339.0  -2.69   \n",
       "1  COC1(NC(=O)C(C(=O)O)c2ccc(O)cc2)C(=O)N2C(C(=O)...      3889.0  -2.52   \n",
       "2                             Oc1c(I)cc(Cl)c2cccnc12      2788.0  -2.40   \n",
       "3                         CCNC(=NCCSCc1ncccc1Br)NC#N  14022517.0  -2.15   \n",
       "4  CN1CC[C@]23c4c5ccc(OC6O[C@H](C(=O)O)[C@@H](O)[...  18595497.0  -2.15   \n",
       "\n",
       "  BBB+/BBB-                                              Inchi  threshold  \\\n",
       "0      BBB-  InChI=1S/C18H14N4O5S/c23-16-9-6-13(11-15(16)18...        NaN   \n",
       "1      BBB-  InChI=1S/C20H20N6O9S/c1-25-19(22-23-24-25)36-8...        NaN   \n",
       "2      BBB-  InChI=1S/C9H5ClINO/c10-6-4-7(11)9(13)8-5(6)2-1...        NaN   \n",
       "3      BBB-  InChI=1S/C12H16BrN5S/c1-2-15-12(18-9-14)17-6-7...        NaN   \n",
       "4      BBB-  InChI=1S/C23H27NO9/c1-24-7-6-23-10-3-4-12(25)2...        NaN   \n",
       "\n",
       "                                           reference group comments  \n",
       "0                                     R2|R2|R25|R46|     A      NaN  \n",
       "1                                               R25|     A      NaN  \n",
       "2                                       R18|R26|R27|     A      NaN  \n",
       "3  R2|R2|R8|R40|R2|R2|R2|R2|R18|R21|R25|R25|R26|R...     A      NaN  \n",
       "4                                               R25|     A      NaN  "
      ]
     },
     "execution_count": 6,
     "metadata": {},
     "output_type": "execute_result"
    }
   ],
   "source": [
    "df.head()"
   ]
  },
  {
   "cell_type": "code",
   "execution_count": 8,
   "id": "2c0b2fbd-a90a-4115-a64a-366dee931968",
   "metadata": {},
   "outputs": [],
   "source": [
    "df['label'] = df['BBB+/BBB-'].map({'BBB+': 1, 'BBB-': 0})"
   ]
  },
  {
   "cell_type": "code",
   "execution_count": 10,
   "id": "b846ef40-4818-4ea7-896a-9e382690d0bf",
   "metadata": {},
   "outputs": [],
   "source": [
    "df = df[['SMILES', 'label']]  "
   ]
  },
  {
   "cell_type": "code",
   "execution_count": 12,
   "id": "f11f1007-44e5-4c06-97eb-9938c31970d0",
   "metadata": {},
   "outputs": [
    {
     "name": "stderr",
     "output_type": "stream",
     "text": [
      "C:\\Users\\vivek\\anaconda3\\envs\\pytorch-env\\lib\\site-packages\\tqdm\\auto.py:21: TqdmWarning: IProgress not found. Please update jupyter and ipywidgets. See https://ipywidgets.readthedocs.io/en/stable/user_install.html\n",
      "  from .autonotebook import tqdm as notebook_tqdm\n"
     ]
    }
   ],
   "source": [
    "import numpy as np\n",
    "import torch\n",
    "from transformers import AutoTokenizer, AutoModelForSequenceClassification, Trainer, TrainingArguments\n",
    "from datasets import Dataset\n",
    "from sklearn.metrics import accuracy_score, f1_score, roc_auc_score"
   ]
  },
  {
   "cell_type": "code",
   "execution_count": 13,
   "id": "1a9c1136-4903-4ed6-b332-7aba54d9372a",
   "metadata": {},
   "outputs": [],
   "source": [
    "df = df[[\"SMILES\", \"label\"]] "
   ]
  },
  {
   "cell_type": "code",
   "execution_count": 81,
   "id": "401b1e35-b761-4db8-bf92-e84fb720017e",
   "metadata": {},
   "outputs": [
    {
     "name": "stderr",
     "output_type": "stream",
     "text": [
      "Map: 100%|█████████████████████████████████████████████████████████████████████████████| 7807/7807 [00:01<00:00, 7438.54 examples/s]\n"
     ]
    }
   ],
   "source": [
    "# Tokenize the SMILES using ChemBERTa tokenizer\n",
    "tokenizer = AutoTokenizer.from_pretrained(\"seyonec/ChemBERTa-zinc-base-v1\")\n",
    "\n",
    "def tokenize(batch):\n",
    "    return tokenizer(batch[\"SMILES\"], padding=\"max_length\", truncation=True, max_length=128)\n",
    "\n",
    "dataset = Dataset.from_pandas(df)\n",
    "dataset = dataset.map(tokenize, batched=True)\n",
    "dataset = dataset.train_test_split(test_size=0.2)"
   ]
  },
  {
   "cell_type": "code",
   "execution_count": 83,
   "id": "b3bed450-f25b-401e-9add-f0746d787e22",
   "metadata": {},
   "outputs": [
    {
     "name": "stderr",
     "output_type": "stream",
     "text": [
      "Some weights of RobertaForSequenceClassification were not initialized from the model checkpoint at seyonec/ChemBERTa-zinc-base-v1 and are newly initialized: ['classifier.dense.bias', 'classifier.dense.weight', 'classifier.out_proj.bias', 'classifier.out_proj.weight']\n",
      "You should probably TRAIN this model on a down-stream task to be able to use it for predictions and inference.\n"
     ]
    }
   ],
   "source": [
    "# Load ChemBERTa with classification head (binary)\n",
    "model = AutoModelForSequenceClassification.from_pretrained(\n",
    "    \"seyonec/ChemBERTa-zinc-base-v1\",\n",
    "    num_labels=2\n",
    ")"
   ]
  },
  {
   "cell_type": "code",
   "execution_count": 85,
   "id": "b781b8e3-0c10-4be3-8c60-077332ef43e2",
   "metadata": {},
   "outputs": [],
   "source": [
    "def compute_metrics(p):\n",
    "    preds = np.argmax(p.predictions, axis=1)\n",
    "    labels = p.label_ids\n",
    "    return {\n",
    "        \"accuracy\": accuracy_score(labels, preds),\n",
    "        \"f1\": f1_score(labels, preds),\n",
    "        \"auc\": roc_auc_score(labels, p.predictions[:, 1])\n",
    "    }"
   ]
  },
  {
   "cell_type": "code",
   "execution_count": 87,
   "id": "82f07eab-d170-432b-ba39-792ff85b1c23",
   "metadata": {},
   "outputs": [
    {
     "name": "stdout",
     "output_type": "stream",
     "text": [
      "TrainingArguments created successfully.\n"
     ]
    }
   ],
   "source": [
    "from transformers import TrainingArguments\n",
    "\n",
    "training_args = TrainingArguments(\n",
    "    output_dir=\"./test-output\",\n",
    "    eval_strategy=\"epoch\",  \n",
    "    per_device_train_batch_size=8,\n",
    "    per_device_eval_batch_size=8,\n",
    "    num_train_epochs=1,\n",
    "    save_strategy=\"epoch\",\n",
    "    load_best_model_at_end=True,\n",
    "    metric_for_best_model=\"accuracy\",\n",
    "    logging_dir=\"./logs\",\n",
    "    logging_steps=10\n",
    ")\n",
    "\n",
    "print(\"TrainingArguments created successfully.\")"
   ]
  },
  {
   "cell_type": "code",
   "execution_count": 89,
   "id": "af35b455-b61d-49a5-8c9e-ab71e43f8ae0",
   "metadata": {},
   "outputs": [
    {
     "name": "stderr",
     "output_type": "stream",
     "text": [
      "C:\\Users\\vivek\\AppData\\Local\\Temp\\ipykernel_4800\\249616725.py:1: FutureWarning: `tokenizer` is deprecated and will be removed in version 5.0.0 for `Trainer.__init__`. Use `processing_class` instead.\n",
      "  trainer = Trainer(\n",
      "C:\\Users\\vivek\\anaconda3\\envs\\pytorch-env\\lib\\site-packages\\torch\\utils\\data\\dataloader.py:665: UserWarning: 'pin_memory' argument is set as true but no accelerator is found, then device pinned memory won't be used.\n",
      "  warnings.warn(warn_msg)\n"
     ]
    },
    {
     "data": {
      "text/html": [
       "\n",
       "    <div>\n",
       "      \n",
       "      <progress value='781' max='781' style='width:300px; height:20px; vertical-align: middle;'></progress>\n",
       "      [781/781 1:50:21, Epoch 1/1]\n",
       "    </div>\n",
       "    <table border=\"1\" class=\"dataframe\">\n",
       "  <thead>\n",
       " <tr style=\"text-align: left;\">\n",
       "      <th>Epoch</th>\n",
       "      <th>Training Loss</th>\n",
       "      <th>Validation Loss</th>\n",
       "      <th>Accuracy</th>\n",
       "      <th>F1</th>\n",
       "      <th>Auc</th>\n",
       "    </tr>\n",
       "  </thead>\n",
       "  <tbody>\n",
       "    <tr>\n",
       "      <td>1</td>\n",
       "      <td>0.474200</td>\n",
       "      <td>0.381824</td>\n",
       "      <td>0.853393</td>\n",
       "      <td>0.889425</td>\n",
       "      <td>0.916327</td>\n",
       "    </tr>\n",
       "  </tbody>\n",
       "</table><p>"
      ],
      "text/plain": [
       "<IPython.core.display.HTML object>"
      ]
     },
     "metadata": {},
     "output_type": "display_data"
    },
    {
     "data": {
      "text/plain": [
       "TrainOutput(global_step=781, training_loss=0.4051310898552478, metrics={'train_runtime': 6625.3117, 'train_samples_per_second': 0.943, 'train_steps_per_second': 0.118, 'total_flos': 206814726151680.0, 'train_loss': 0.4051310898552478, 'epoch': 1.0})"
      ]
     },
     "execution_count": 89,
     "metadata": {},
     "output_type": "execute_result"
    }
   ],
   "source": [
    "trainer = Trainer(\n",
    "    model=model,\n",
    "    args=training_args,\n",
    "    train_dataset=dataset[\"train\"],\n",
    "    eval_dataset=dataset[\"test\"],\n",
    "    tokenizer=tokenizer,\n",
    "    compute_metrics=compute_metrics\n",
    ")\n",
    "trainer.train()"
   ]
  },
  {
   "cell_type": "code",
   "execution_count": 92,
   "id": "1bcb42bf-bd51-4c55-b5f9-a24958572ae9",
   "metadata": {},
   "outputs": [
    {
     "data": {
      "text/plain": [
       "(1, [0.06468452513217926, 0.9353154897689819])"
      ]
     },
     "execution_count": 92,
     "metadata": {},
     "output_type": "execute_result"
    }
   ],
   "source": [
    "def predict_smiles(smiles_str):\n",
    "    model.eval()\n",
    "    inputs = tokenizer(smiles_str, return_tensors=\"pt\", truncation=True, padding=True, max_length=128)\n",
    "    with torch.no_grad():\n",
    "        outputs = model(**inputs)\n",
    "        probs = torch.nn.functional.softmax(outputs.logits, dim=1)\n",
    "        prediction = torch.argmax(probs, dim=1).item()\n",
    "    return prediction, probs.squeeze().tolist()\n",
    "\n",
    "smiles = \"CCO\"\n",
    "predict_smiles(smiles)"
   ]
  },
  {
   "cell_type": "code",
   "execution_count": 94,
   "id": "9553f80d-aa88-40aa-ae2a-35c1aa1b709c",
   "metadata": {},
   "outputs": [
    {
     "data": {
      "text/plain": [
       "('my_saved_model/tokenizer_config.json',\n",
       " 'my_saved_model/special_tokens_map.json',\n",
       " 'my_saved_model/vocab.json',\n",
       " 'my_saved_model/merges.txt',\n",
       " 'my_saved_model/added_tokens.json',\n",
       " 'my_saved_model/tokenizer.json')"
      ]
     },
     "execution_count": 94,
     "metadata": {},
     "output_type": "execute_result"
    }
   ],
   "source": [
    "from transformers import AutoTokenizer\n",
    "\n",
    "model.save_pretrained(\"my_saved_model/\")\n",
    "tokenizer.save_pretrained(\"my_saved_model/\")"
   ]
  },
  {
   "cell_type": "code",
   "execution_count": 96,
   "id": "52cbd68e-326f-483a-9a82-998c4c0f4e03",
   "metadata": {},
   "outputs": [
    {
     "name": "stdout",
     "output_type": "stream",
     "text": [
      "Prediction: 1\n"
     ]
    }
   ],
   "source": [
    "from transformers import AutoTokenizer, AutoModelForSequenceClassification\n",
    "import torch\n",
    "\n",
    "model = AutoModelForSequenceClassification.from_pretrained(\"my_saved_model/\")\n",
    "tokenizer = AutoTokenizer.from_pretrained(\"my_saved_model/\")\n",
    "\n",
    "smiles = \"CNC(=O)C1=CC=C(C=C1)S(=O)(=O)N\"  # Sulfonamide \n",
    "inputs = tokenizer(smiles, return_tensors=\"pt\")\n",
    "with torch.no_grad():\n",
    "    outputs = model(**inputs)\n",
    "    prediction = torch.argmax(outputs.logits, dim=1).item()\n",
    "\n",
    "print(\"Prediction:\", prediction)"
   ]
  },
  {
   "cell_type": "code",
   "execution_count": 100,
   "id": "0dff10bf-f101-499a-b549-8e7ab181e0ed",
   "metadata": {},
   "outputs": [],
   "source": [
    "logits = model(**inputs).logits\n",
    "probs = torch.softmax(logits, dim=1).detach().numpy()\n",
    "predicted_class = np.argmax(probs, axis=1)"
   ]
  },
  {
   "cell_type": "code",
   "execution_count": 102,
   "id": "a7b6c944-7258-48b6-970e-0f0a7312a435",
   "metadata": {},
   "outputs": [
    {
     "data": {
      "text/plain": [
       "array([[0.03830663, 0.96169335]], dtype=float32)"
      ]
     },
     "execution_count": 102,
     "metadata": {},
     "output_type": "execute_result"
    }
   ],
   "source": [
    "probs"
   ]
  },
  {
   "cell_type": "code",
   "execution_count": 104,
   "id": "7be9d2ff-5225-4e4f-890e-c2c12b23f1d2",
   "metadata": {},
   "outputs": [
    {
     "name": "stdout",
     "output_type": "stream",
     "text": [
      "SMILES: CCO\n",
      "  → Predicted class: 1 (Prob: 0.9353)\n",
      "\n",
      "SMILES: CC(=O)O\n",
      "  → Predicted class: 1 (Prob: 0.5253)\n",
      "\n",
      "SMILES: c1ccccc1\n",
      "  → Predicted class: 1 (Prob: 0.9707)\n",
      "\n",
      "SMILES: C1[C@H]2[C@H](CN1)OC3=C(O2)C=CC=C3F\n",
      "  → Predicted class: 1 (Prob: 0.9907)\n",
      "\n",
      "SMILES: CN1CCC(CC1)C2=CC=CC=C2O\n",
      "  → Predicted class: 1 (Prob: 0.9113)\n",
      "\n",
      "SMILES: CC(C)NCCC1=CC2=C(C=C1)OCO2\n",
      "  → Predicted class: 1 (Prob: 0.9197)\n",
      "\n",
      "SMILES: C(C(=O)O)N\n",
      "  → Predicted class: 1 (Prob: 0.6692)\n",
      "\n",
      "SMILES: C1=CC(=CC=C1C(=O)O)O\n",
      "  → Predicted class: 0 (Prob: 0.5474)\n",
      "\n",
      "SMILES: C1=CC(=CC=C1C(=O)O)C(=O)O\n",
      "  → Predicted class: 0 (Prob: 0.6309)\n",
      "\n",
      "SMILES: C1=CC(=CC=C1O)O\n",
      "  → Predicted class: 1 (Prob: 0.8711)\n",
      "\n",
      "SMILES: NC(=O)C(CC(=O)O)N\n",
      "  → Predicted class: 1 (Prob: 0.6256)\n",
      "\n"
     ]
    }
   ],
   "source": [
    "from transformers import AutoTokenizer, AutoModelForSequenceClassification\n",
    "import torch\n",
    "\n",
    "model = AutoModelForSequenceClassification.from_pretrained(\"my_saved_model/\")\n",
    "tokenizer = AutoTokenizer.from_pretrained(\"my_saved_model/\")\n",
    "model.eval()  \n",
    "\n",
    "smiles_list = [\n",
    "    # Known permeable\n",
    "    \"CCO\",                                       # Ethanol (permeable, small & lipophilic) [Pardridge, 2012]\n",
    "    \"CC(=O)O\",                                   # Acetic acid (permeable) [Pardridge, 2012]\n",
    "    \"c1ccccc1\",                                  # Benzene (permeable) [Oldendorf, 1971]\n",
    "    \"C1[C@H]2[C@H](CN1)OC3=C(O2)C=CC=C3F\",       # Fluparoxan (permeable α2 antagonist) [Hudson et al., 2005]\n",
    "    \"CN1CCC(CC1)C2=CC=CC=C2O\",                   # Serotonin (permeable but actively transported) [Pardridge, 1998]\n",
    "    \"CC(C)NCCC1=CC2=C(C=C1)OCO2\",                # Donepezil (permeable, Alzheimer's drug) [Sugimoto et al., 2000]\n",
    "    \n",
    "    # Known NON-permeable\n",
    "    \"C(C(=O)O)N\",                                # Glycine (polar amino acid, poor passive BBB penetration) [Pardridge, 1977]\n",
    "    \"C1=CC(=CC=C1C(=O)O)O\",                      # Salicylic acid (polar, low BBB penetration) [Banks, 2009]\n",
    "    \"C1=CC(=CC=C1C(=O)O)C(=O)O\",                 # Phthalic acid (very polar, non-permeable) [Banks, 2009]\n",
    "    \"C1=CC(=CC=C1O)O\",                           # Catechol (hydrophilic, low BBB penetration) [Pardridge, 1998]\n",
    "    \"NC(=O)C(CC(=O)O)N\",   \n",
    "\n",
    "]\n",
    "        \n",
    "inputs = tokenizer(\n",
    "    smiles_list,\n",
    "    padding=True,\n",
    "    truncation=True,\n",
    "    max_length=128,\n",
    "    return_tensors=\"pt\"\n",
    ")\n",
    "\n",
    "with torch.no_grad():\n",
    "    outputs = model(**inputs)\n",
    "    logits = outputs.logits\n",
    "    probs = torch.softmax(logits, dim=1)\n",
    "    preds = torch.argmax(probs, dim=1)\n",
    "\n",
    "for smile, pred, prob in zip(smiles_list, preds.tolist(), probs.tolist()):\n",
    "    print(f\"SMILES: {smile}\")\n",
    "    print(f\"  → Predicted class: {pred} (Prob: {prob[pred]:.4f})\\n\")"
   ]
  },
  {
   "cell_type": "markdown",
   "id": "850aaaa0-4f75-4738-b4a2-f7bc1c5a2f2c",
   "metadata": {},
   "source": [
    "##  Generating embeddings"
   ]
  },
  {
   "cell_type": "code",
   "execution_count": 20,
   "id": "dcb09c41-1209-4f82-acd9-762ab39d7306",
   "metadata": {},
   "outputs": [
    {
     "data": {
      "text/html": [
       "<div>\n",
       "<style scoped>\n",
       "    .dataframe tbody tr th:only-of-type {\n",
       "        vertical-align: middle;\n",
       "    }\n",
       "\n",
       "    .dataframe tbody tr th {\n",
       "        vertical-align: top;\n",
       "    }\n",
       "\n",
       "    .dataframe thead th {\n",
       "        text-align: right;\n",
       "    }\n",
       "</style>\n",
       "<table border=\"1\" class=\"dataframe\">\n",
       "  <thead>\n",
       "    <tr style=\"text-align: right;\">\n",
       "      <th></th>\n",
       "      <th>SMILES</th>\n",
       "      <th>label</th>\n",
       "    </tr>\n",
       "  </thead>\n",
       "  <tbody>\n",
       "    <tr>\n",
       "      <th>0</th>\n",
       "      <td>O=C(O)c1cc(N=Nc2ccc(S(=O)(=O)Nc3ccccn3)cc2)ccc1O</td>\n",
       "      <td>0</td>\n",
       "    </tr>\n",
       "  </tbody>\n",
       "</table>\n",
       "</div>"
      ],
      "text/plain": [
       "                                             SMILES  label\n",
       "0  O=C(O)c1cc(N=Nc2ccc(S(=O)(=O)Nc3ccccn3)cc2)ccc1O      0"
      ]
     },
     "execution_count": 20,
     "metadata": {},
     "output_type": "execute_result"
    }
   ],
   "source": [
    "df.head(1)"
   ]
  },
  {
   "cell_type": "code",
   "execution_count": 22,
   "id": "844843c5-2685-4168-93fc-32795ffc241f",
   "metadata": {},
   "outputs": [],
   "source": [
    "smiles_list = df['SMILES'].tolist()\n",
    "\n",
    "labels = df['label'].values"
   ]
  },
  {
   "cell_type": "code",
   "execution_count": 24,
   "id": "033bafc0-1b0a-4fbc-83d1-e0049f40b21a",
   "metadata": {},
   "outputs": [],
   "source": [
    "from transformers import AutoTokenizer, AutoModel\n",
    "import torch\n",
    "from torch.utils.data import Dataset, DataLoader\n",
    "\n",
    "tokenizer = AutoTokenizer.from_pretrained(\"seyonec/ChemBERTa-zinc-base-v1\")\n",
    "chemberta = AutoModel.from_pretrained(\"seyonec/ChemBERTa-zinc-base-v1\")\n",
    "chemberta.eval()  # Freeze weights\n",
    "\n",
    "def get_chemberta_embedding(smiles):\n",
    "    inputs = tokenizer(smiles, return_tensors=\"pt\", padding=True, truncation=True)\n",
    "    with torch.no_grad():\n",
    "        outputs = chemberta(**inputs)\n",
    "    return outputs.last_hidden_state[:, 0, :].squeeze().numpy()  # [CLS] token"
   ]
  },
  {
   "cell_type": "code",
   "execution_count": 25,
   "id": "5d55fe5a-65e3-4409-9cfd-8abacba0c83e",
   "metadata": {},
   "outputs": [],
   "source": [
    "embeddings = np.array([get_chemberta_embedding(smi) for smi in smiles_list])"
   ]
  },
  {
   "cell_type": "code",
   "execution_count": 28,
   "id": "ed74d4b5-719d-4ec8-842b-76900f3007d0",
   "metadata": {},
   "outputs": [
    {
     "data": {
      "text/plain": [
       "array([[ 0.25248706,  0.44628125,  0.04109137, ..., -1.660102  ,\n",
       "        -0.41999194,  0.5287114 ],\n",
       "       [ 1.1333145 , -0.29413953, -0.77996933, ..., -0.4390333 ,\n",
       "         0.18617637,  1.1964507 ],\n",
       "       [ 2.115616  ,  0.4459534 ,  0.99493134, ..., -0.6753521 ,\n",
       "        -1.0299244 ,  2.400854  ],\n",
       "       ...,\n",
       "       [ 2.2383883 ,  0.7994697 , -0.21661702, ...,  0.41989818,\n",
       "        -0.29922205,  1.134143  ],\n",
       "       [ 2.0040555 , -0.40020815,  0.05821397, ..., -0.77413154,\n",
       "        -0.8853831 ,  0.0230846 ],\n",
       "       [ 1.3414127 , -1.132047  , -0.5651429 , ..., -0.17915855,\n",
       "        -1.2964383 ,  1.318701  ]], shape=(7807, 768), dtype=float32)"
      ]
     },
     "execution_count": 28,
     "metadata": {},
     "output_type": "execute_result"
    }
   ],
   "source": [
    "embeddings "
   ]
  },
  {
   "cell_type": "code",
   "execution_count": 30,
   "id": "416a867e-0543-4bf3-b7bb-441ab9ffa669",
   "metadata": {},
   "outputs": [],
   "source": [
    "class MoleculeDataset(Dataset):\n",
    "    def __init__(self, X, y):\n",
    "        self.X = torch.tensor(X, dtype=torch.float32)\n",
    "        self.y = torch.tensor(y, dtype=torch.long)\n",
    "\n",
    "    def __len__(self):\n",
    "        return len(self.X)\n",
    "\n",
    "    def __getitem__(self, idx):\n",
    "        return self.X[idx], self.y[idx]\n",
    "\n",
    "from sklearn.model_selection import train_test_split\n",
    "\n",
    "X_train, X_test, y_train, y_test = train_test_split(embeddings, labels, test_size=0.2, random_state=42)\n",
    "\n",
    "train_dataset = MoleculeDataset(X_train, y_train)\n",
    "test_dataset = MoleculeDataset(X_test, y_test)\n",
    "\n",
    "train_loader = DataLoader(train_dataset, batch_size=32, shuffle=True)\n",
    "test_loader = DataLoader(test_dataset, batch_size=32, shuffle=False)"
   ]
  },
  {
   "cell_type": "code",
   "execution_count": 32,
   "id": "60863a20-0d76-4969-a7b1-f21a2f909402",
   "metadata": {},
   "outputs": [],
   "source": [
    "import torch.nn as nn\n",
    "\n",
    "class ChemBERTaClassifier(nn.Module):\n",
    "    def __init__(self, input_dim=768):\n",
    "        super(ChemBERTaClassifier, self).__init__()\n",
    "        self.net = nn.Sequential(\n",
    "            nn.Linear(input_dim, 512),\n",
    "            nn.ReLU(),\n",
    "            nn.Dropout(0.2),\n",
    "            nn.Linear(512, 256),\n",
    "            nn.ReLU(),\n",
    "            nn.Dropout(0.2),\n",
    "            nn.Linear(256, 2)  # binary classification\n",
    "        )\n",
    "\n",
    "    def forward(self, x):\n",
    "        return self.net(x)"
   ]
  },
  {
   "cell_type": "code",
   "execution_count": 34,
   "id": "04ac12ba-a251-4790-8a59-afcedf68ea57",
   "metadata": {},
   "outputs": [
    {
     "name": "stdout",
     "output_type": "stream",
     "text": [
      "Epoch 1, Loss: 98.2621\n",
      "Epoch 2, Loss: 81.3928\n",
      "Epoch 3, Loss: 75.0916\n",
      "Epoch 4, Loss: 69.4266\n",
      "Epoch 5, Loss: 64.5297\n",
      "Epoch 6, Loss: 60.2866\n",
      "Epoch 7, Loss: 56.6024\n",
      "Epoch 8, Loss: 53.6189\n",
      "Epoch 9, Loss: 50.2984\n",
      "Epoch 10, Loss: 46.3834\n",
      "Epoch 11, Loss: 42.2818\n",
      "Epoch 12, Loss: 41.0620\n",
      "Epoch 13, Loss: 38.8868\n",
      "Epoch 14, Loss: 34.6481\n",
      "Epoch 15, Loss: 33.6919\n",
      "Epoch 16, Loss: 31.3513\n",
      "Epoch 17, Loss: 29.4023\n",
      "Epoch 18, Loss: 27.5053\n",
      "Epoch 19, Loss: 25.1107\n",
      "Epoch 20, Loss: 24.3870\n",
      "Epoch 21, Loss: 22.3992\n",
      "Epoch 22, Loss: 20.6066\n",
      "Epoch 23, Loss: 18.7971\n",
      "Epoch 24, Loss: 18.7385\n",
      "Epoch 25, Loss: 17.4708\n",
      "Epoch 26, Loss: 16.6806\n",
      "Epoch 27, Loss: 15.4447\n",
      "Epoch 28, Loss: 17.2860\n",
      "Epoch 29, Loss: 14.6990\n",
      "Epoch 30, Loss: 16.1399\n",
      "Epoch 31, Loss: 14.8007\n",
      "Epoch 32, Loss: 16.9992\n",
      "Epoch 33, Loss: 15.2555\n",
      "Epoch 34, Loss: 13.0721\n",
      "Epoch 35, Loss: 13.2279\n",
      "Epoch 36, Loss: 11.8983\n",
      "Epoch 37, Loss: 13.6041\n",
      "Epoch 38, Loss: 12.4453\n",
      "Epoch 39, Loss: 12.0237\n",
      "Epoch 40, Loss: 10.9727\n",
      "Epoch 41, Loss: 12.0418\n",
      "Epoch 42, Loss: 11.7246\n",
      "Epoch 43, Loss: 11.5053\n",
      "Epoch 44, Loss: 11.2096\n",
      "Epoch 45, Loss: 11.5884\n",
      "Epoch 46, Loss: 10.3520\n",
      "Epoch 47, Loss: 10.9778\n",
      "Epoch 48, Loss: 10.0196\n",
      "Epoch 49, Loss: 9.9644\n",
      "Epoch 50, Loss: 10.8087\n"
     ]
    }
   ],
   "source": [
    "device = torch.device(\"cuda\" if torch.cuda.is_available() else \"cpu\")\n",
    "\n",
    "model = ChemBERTaClassifier().to(device)\n",
    "criterion = nn.CrossEntropyLoss()\n",
    "optimizer = torch.optim.Adam(model.parameters(), lr=1e-4)\n",
    "\n",
    "# Training loop\n",
    "for epoch in range(50):\n",
    "    model.train()\n",
    "    total_loss = 0\n",
    "    for X_batch, y_batch in train_loader:\n",
    "        X_batch, y_batch = X_batch.to(device), y_batch.to(device)\n",
    "\n",
    "        optimizer.zero_grad()\n",
    "        outputs = model(X_batch)\n",
    "        loss = criterion(outputs, y_batch)\n",
    "        loss.backward()\n",
    "        optimizer.step()\n",
    "        total_loss += loss.item()\n",
    "\n",
    "    print(f\"Epoch {epoch+1}, Loss: {total_loss:.4f}\")"
   ]
  },
  {
   "cell_type": "code",
   "execution_count": 35,
   "id": "a0ce67e9-f635-4792-8f17-9f908ded06b9",
   "metadata": {},
   "outputs": [
    {
     "name": "stdout",
     "output_type": "stream",
     "text": [
      "              precision    recall  f1-score   support\n",
      "\n",
      "           0       0.80      0.78      0.79       561\n",
      "           1       0.88      0.89      0.89      1001\n",
      "\n",
      "    accuracy                           0.85      1562\n",
      "   macro avg       0.84      0.84      0.84      1562\n",
      "weighted avg       0.85      0.85      0.85      1562\n",
      "\n"
     ]
    }
   ],
   "source": [
    "from sklearn.metrics import classification_report\n",
    "\n",
    "model.eval()\n",
    "all_preds = []\n",
    "all_true = []\n",
    "\n",
    "with torch.no_grad():\n",
    "    for X_batch, y_batch in test_loader:\n",
    "        X_batch = X_batch.to(device)\n",
    "        outputs = model(X_batch)\n",
    "        preds = torch.argmax(outputs, dim=1).cpu().numpy()\n",
    "        all_preds.extend(preds)\n",
    "        all_true.extend(y_batch.numpy())\n",
    "\n",
    "print(classification_report(all_true, all_preds))"
   ]
  },
  {
   "cell_type": "code",
   "execution_count": 36,
   "id": "ad9dfa88-78dc-42c8-ac1a-6141c21b408d",
   "metadata": {},
   "outputs": [
    {
     "name": "stdout",
     "output_type": "stream",
     "text": [
      "              precision    recall  f1-score   support\n",
      "\n",
      "           0       0.80      0.78      0.79       561\n",
      "           1       0.88      0.89      0.89      1001\n",
      "\n",
      "    accuracy                           0.85      1562\n",
      "   macro avg       0.84      0.84      0.84      1562\n",
      "weighted avg       0.85      0.85      0.85      1562\n",
      "\n"
     ]
    },
    {
     "data": {
      "image/png": "[encoded data removed]",
      "text/plain": [
       "<Figure size 640x480 with 2 Axes>"
      ]
     },
     "metadata": {},
     "output_type": "display_data"
    }
   ],
   "source": [
    "from sklearn.metrics import confusion_matrix, ConfusionMatrixDisplay\n",
    "import matplotlib.pyplot as plt\n",
    "\n",
    "print(classification_report(all_true, all_preds))\n",
    "\n",
    "cm = confusion_matrix(all_true, all_preds)\n",
    "\n",
    "disp = ConfusionMatrixDisplay(confusion_matrix=cm, display_labels=[0, 1])\n",
    "disp.plot(cmap='Blues', values_format='d')\n",
    "plt.title(\"Confusion Matrix\")\n",
    "plt.show()"
   ]
  },
  {
   "cell_type": "code",
   "execution_count": 37,
   "id": "5649b6ee-81b2-48ff-a70d-19dae238e612",
   "metadata": {},
   "outputs": [
    {
     "data": {
      "text/html": [
       "<div>\n",
       "<style scoped>\n",
       "    .dataframe tbody tr th:only-of-type {\n",
       "        vertical-align: middle;\n",
       "    }\n",
       "\n",
       "    .dataframe tbody tr th {\n",
       "        vertical-align: top;\n",
       "    }\n",
       "\n",
       "    .dataframe thead th {\n",
       "        text-align: right;\n",
       "    }\n",
       "</style>\n",
       "<table border=\"1\" class=\"dataframe\">\n",
       "  <thead>\n",
       "    <tr style=\"text-align: right;\">\n",
       "      <th></th>\n",
       "      <th>SMILES</th>\n",
       "      <th>label</th>\n",
       "    </tr>\n",
       "  </thead>\n",
       "  <tbody>\n",
       "    <tr>\n",
       "      <th>0</th>\n",
       "      <td>O=C(O)c1cc(N=Nc2ccc(S(=O)(=O)Nc3ccccn3)cc2)ccc1O</td>\n",
       "      <td>0</td>\n",
       "    </tr>\n",
       "  </tbody>\n",
       "</table>\n",
       "</div>"
      ],
      "text/plain": [
       "                                             SMILES  label\n",
       "0  O=C(O)c1cc(N=Nc2ccc(S(=O)(=O)Nc3ccccn3)cc2)ccc1O      0"
      ]
     },
     "execution_count": 37,
     "metadata": {},
     "output_type": "execute_result"
    }
   ],
   "source": [
    "df.head(1)"
   ]
  },
  {
   "cell_type": "code",
   "execution_count": 38,
   "id": "66312ccc-0c38-4feb-999a-c97fbe13a8c1",
   "metadata": {},
   "outputs": [],
   "source": [
    "from sklearn.model_selection import train_test_split\n",
    "X_train, X_test, y_train, y_test = train_test_split(embeddings, labels, test_size=0.2, random_state=42, stratify=labels)"
   ]
  },
  {
   "cell_type": "code",
   "execution_count": 39,
   "id": "cf7607c6-d949-4e6f-a39b-d1e5a24d68c9",
   "metadata": {},
   "outputs": [],
   "source": [
    "from lightgbm import LGBMClassifier\n",
    "from sklearn.metrics import accuracy_score, roc_auc_score, matthews_corrcoef, f1_score, classification_report, confusion_matrix"
   ]
  },
  {
   "cell_type": "code",
   "execution_count": 40,
   "id": "4159f5e8-93a6-44d2-ba01-4189d8d04dd3",
   "metadata": {},
   "outputs": [
    {
     "name": "stdout",
     "output_type": "stream",
     "text": [
      "[LightGBM] [Info] Number of positive: 3964, number of negative: 2281\n",
      "[LightGBM] [Info] Auto-choosing col-wise multi-threading, the overhead of testing was 0.096693 seconds.\n",
      "You can set `force_col_wise=true` to remove the overhead.\n",
      "[LightGBM] [Info] Total Bins 195840\n",
      "[LightGBM] [Info] Number of data points in the train set: 6245, number of used features: 768\n",
      "[LightGBM] [Info] [binary:BoostFromScore]: pavg=0.634748 -> initscore=0.552640\n",
      "[LightGBM] [Info] Start training from score 0.552640\n",
      " LightGBM Results (Default Threshold = 0.5)\n",
      "Accuracy: 0.8496\n",
      "AUC: 0.9171\n",
      "MCC: 0.6697\n",
      "F1 Score: 0.8867\n",
      "Confusion Matrix:\n",
      " [[407 163]\n",
      " [ 72 920]]\n",
      "\n",
      "Classification Report:\n",
      "               precision    recall  f1-score   support\n",
      "\n",
      "        -BBB       0.85      0.71      0.78       570\n",
      "        +BBB       0.85      0.93      0.89       992\n",
      "\n",
      "    accuracy                           0.85      1562\n",
      "   macro avg       0.85      0.82      0.83      1562\n",
      "weighted avg       0.85      0.85      0.85      1562\n",
      "\n"
     ]
    },
    {
     "name": "stderr",
     "output_type": "stream",
     "text": [
      "C:\\Users\\vivek\\anaconda3\\envs\\pytorch-env\\lib\\site-packages\\sklearn\\utils\\validation.py:2749: UserWarning: X does not have valid feature names, but LGBMClassifier was fitted with feature names\n",
      "  warnings.warn(\n"
     ]
    }
   ],
   "source": [
    "lgbm_model = LGBMClassifier(random_state=42)\n",
    "\n",
    "lgbm_model.fit(X_train, y_train)\n",
    "\n",
    "y_prob_lgbm = lgbm_model.predict_proba(X_test)[:, 1]\n",
    "y_pred_lgbm = (y_prob_lgbm >= 0.5).astype(int)\n",
    "\n",
    "print(\" LightGBM Results (Default Threshold = 0.5)\")\n",
    "print(f\"Accuracy: {accuracy_score(y_test, y_pred_lgbm):.4f}\")\n",
    "print(f\"AUC: {roc_auc_score(y_test, y_prob_lgbm):.4f}\")\n",
    "print(f\"MCC: {matthews_corrcoef(y_test, y_pred_lgbm):.4f}\")\n",
    "print(f\"F1 Score: {f1_score(y_test, y_pred_lgbm):.4f}\")\n",
    "print(\"Confusion Matrix:\\n\", confusion_matrix(y_test, y_pred_lgbm))\n",
    "print(\"\\nClassification Report:\\n\", classification_report(y_test, y_pred_lgbm, target_names=[\"-BBB\", \"+BBB\"]))"
   ]
  },
  {
   "cell_type": "code",
   "execution_count": null,
   "id": "e5c8fd30-97c4-4e34-8e2a-760bece03206",
   "metadata": {},
   "outputs": [],
   "source": []
  }
 ],
 "metadata": {
  "kernelspec": {
   "display_name": "Python (PyTorch + RDKit)",
   "language": "python",
   "name": "pytorch-env"
  },
  "language_info": {
   "codemirror_mode": {
    "name": "ipython",
    "version": 3
   },
   "file_extension": ".py",
   "mimetype": "text/x-python",
   "name": "python",
   "nbconvert_exporter": "python",
   "pygments_lexer": "ipython3",
   "version": "3.10.18"
  }
 },
 "nbformat": 4,
 "nbformat_minor": 5
}
