{
 "cells": [
  {
   "cell_type": "code",
   "execution_count": 1,
   "id": "96e0f728-d394-4208-b61c-7aa8d83410e3",
   "metadata": {},
   "outputs": [],
   "source": [
    "import torch\n",
    "import torch.nn as nn\n",
    "import torch.optim as optim\n",
    "from torch.utils.data import TensorDataset, DataLoader\n",
    "from sklearn.preprocessing import StandardScaler\n",
    "from sklearn.model_selection import train_test_split\n",
    "from sklearn.metrics import accuracy_score, roc_auc_score, matthews_corrcoef"
   ]
  },
  {
   "cell_type": "code",
   "execution_count": 2,
   "id": "83155a90-b3e6-4161-9016-cdcc8943af08",
   "metadata": {},
   "outputs": [],
   "source": [
    "import pandas as pd\n",
    "df = pd.read_csv('dcorr_filtered_BBB_0.25.csv', low_memory=False)"
   ]
  },
  {
   "cell_type": "code",
   "execution_count": 6,
   "id": "3616dec0-557a-4c3f-9cf6-7bb9c591d9ae",
   "metadata": {},
   "outputs": [
    {
     "data": {
      "text/html": [
       "<div>\n",
       "<style scoped>\n",
       "    .dataframe tbody tr th:only-of-type {\n",
       "        vertical-align: middle;\n",
       "    }\n",
       "\n",
       "    .dataframe tbody tr th {\n",
       "        vertical-align: top;\n",
       "    }\n",
       "\n",
       "    .dataframe thead th {\n",
       "        text-align: right;\n",
       "    }\n",
       "</style>\n",
       "<table border=\"1\" class=\"dataframe\">\n",
       "  <thead>\n",
       "    <tr style=\"text-align: right;\">\n",
       "      <th></th>\n",
       "      <th>SMILES</th>\n",
       "      <th>TopoPSA</th>\n",
       "      <th>ATSC1c</th>\n",
       "      <th>TopoPSA(NO)</th>\n",
       "      <th>ATSC0c</th>\n",
       "      <th>nHetero</th>\n",
       "      <th>MID_h</th>\n",
       "      <th>nHBDon</th>\n",
       "      <th>PEOE_VSA10</th>\n",
       "      <th>nHBAcc</th>\n",
       "      <th>...</th>\n",
       "      <th>GATS2p</th>\n",
       "      <th>VE1_Dzse</th>\n",
       "      <th>VE1_Dzpe</th>\n",
       "      <th>ATS2Z</th>\n",
       "      <th>VE1_Dzare</th>\n",
       "      <th>VE1_Dzi</th>\n",
       "      <th>VE1_DzZ</th>\n",
       "      <th>VE1_Dzm</th>\n",
       "      <th>ZMIC0</th>\n",
       "      <th>BBB_Class</th>\n",
       "    </tr>\n",
       "  </thead>\n",
       "  <tbody>\n",
       "    <tr>\n",
       "      <th>0</th>\n",
       "      <td>O=C(O)c1cc(N=Nc2ccc(S(=O)(=O)Nc3ccccn3)cc2)ccc1O</td>\n",
       "      <td>149.69</td>\n",
       "      <td>-0.869178</td>\n",
       "      <td>141.31</td>\n",
       "      <td>1.320560</td>\n",
       "      <td>10.0</td>\n",
       "      <td>19.060046</td>\n",
       "      <td>3.0</td>\n",
       "      <td>17.130826</td>\n",
       "      <td>7.0</td>\n",
       "      <td>...</td>\n",
       "      <td>1.079616</td>\n",
       "      <td>5.212883</td>\n",
       "      <td>5.213325</td>\n",
       "      <td>2100.0</td>\n",
       "      <td>5.213752</td>\n",
       "      <td>5.212634</td>\n",
       "      <td>5.207067</td>\n",
       "      <td>5.207055</td>\n",
       "      <td>89.697096</td>\n",
       "      <td>0</td>\n",
       "    </tr>\n",
       "    <tr>\n",
       "      <th>1</th>\n",
       "      <td>COC1(NC(=O)C(C(=O)O)c2ccc(O)cc2)C(=O)N2C(C(=O)...</td>\n",
       "      <td>231.60</td>\n",
       "      <td>-1.480445</td>\n",
       "      <td>206.30</td>\n",
       "      <td>2.406565</td>\n",
       "      <td>16.0</td>\n",
       "      <td>30.633874</td>\n",
       "      <td>4.0</td>\n",
       "      <td>11.446551</td>\n",
       "      <td>12.0</td>\n",
       "      <td>...</td>\n",
       "      <td>1.041694</td>\n",
       "      <td>5.905613</td>\n",
       "      <td>5.904109</td>\n",
       "      <td>2843.0</td>\n",
       "      <td>5.902724</td>\n",
       "      <td>5.902382</td>\n",
       "      <td>5.914851</td>\n",
       "      <td>5.914866</td>\n",
       "      <td>120.950183</td>\n",
       "      <td>0</td>\n",
       "    </tr>\n",
       "    <tr>\n",
       "      <th>2</th>\n",
       "      <td>Oc1c(I)cc(Cl)c2cccnc12</td>\n",
       "      <td>33.12</td>\n",
       "      <td>-0.246240</td>\n",
       "      <td>33.12</td>\n",
       "      <td>0.481581</td>\n",
       "      <td>4.0</td>\n",
       "      <td>7.337494</td>\n",
       "      <td>1.0</td>\n",
       "      <td>5.516701</td>\n",
       "      <td>2.0</td>\n",
       "      <td>...</td>\n",
       "      <td>0.591202</td>\n",
       "      <td>3.552646</td>\n",
       "      <td>3.553077</td>\n",
       "      <td>1513.0</td>\n",
       "      <td>3.548154</td>\n",
       "      <td>3.548148</td>\n",
       "      <td>3.571093</td>\n",
       "      <td>3.571244</td>\n",
       "      <td>49.257975</td>\n",
       "      <td>0</td>\n",
       "    </tr>\n",
       "    <tr>\n",
       "      <th>3</th>\n",
       "      <td>CCNC(=NCCSCc1ncccc1Br)NC#N</td>\n",
       "      <td>98.40</td>\n",
       "      <td>-0.406882</td>\n",
       "      <td>73.10</td>\n",
       "      <td>0.568644</td>\n",
       "      <td>7.0</td>\n",
       "      <td>13.439480</td>\n",
       "      <td>2.0</td>\n",
       "      <td>0.000000</td>\n",
       "      <td>4.0</td>\n",
       "      <td>...</td>\n",
       "      <td>1.069291</td>\n",
       "      <td>4.305903</td>\n",
       "      <td>4.307516</td>\n",
       "      <td>1568.0</td>\n",
       "      <td>4.308483</td>\n",
       "      <td>4.310238</td>\n",
       "      <td>4.293615</td>\n",
       "      <td>4.293574</td>\n",
       "      <td>67.893426</td>\n",
       "      <td>0</td>\n",
       "    </tr>\n",
       "    <tr>\n",
       "      <th>4</th>\n",
       "      <td>CN1CC[C@]23c4c5ccc(OC6O[C@H](C(=O)O)[C@@H](O)[...</td>\n",
       "      <td>149.15</td>\n",
       "      <td>-1.098008</td>\n",
       "      <td>149.15</td>\n",
       "      <td>2.216727</td>\n",
       "      <td>10.0</td>\n",
       "      <td>18.953495</td>\n",
       "      <td>5.0</td>\n",
       "      <td>30.519832</td>\n",
       "      <td>9.0</td>\n",
       "      <td>...</td>\n",
       "      <td>1.064031</td>\n",
       "      <td>5.660753</td>\n",
       "      <td>5.661139</td>\n",
       "      <td>2868.0</td>\n",
       "      <td>5.661487</td>\n",
       "      <td>5.662368</td>\n",
       "      <td>5.660800</td>\n",
       "      <td>5.660796</td>\n",
       "      <td>117.423288</td>\n",
       "      <td>0</td>\n",
       "    </tr>\n",
       "  </tbody>\n",
       "</table>\n",
       "<p>5 rows × 294 columns</p>\n",
       "</div>"
      ],
      "text/plain": [
       "                                              SMILES  TopoPSA    ATSC1c  \\\n",
       "0   O=C(O)c1cc(N=Nc2ccc(S(=O)(=O)Nc3ccccn3)cc2)ccc1O   149.69 -0.869178   \n",
       "1  COC1(NC(=O)C(C(=O)O)c2ccc(O)cc2)C(=O)N2C(C(=O)...   231.60 -1.480445   \n",
       "2                             Oc1c(I)cc(Cl)c2cccnc12    33.12 -0.246240   \n",
       "3                         CCNC(=NCCSCc1ncccc1Br)NC#N    98.40 -0.406882   \n",
       "4  CN1CC[C@]23c4c5ccc(OC6O[C@H](C(=O)O)[C@@H](O)[...   149.15 -1.098008   \n",
       "\n",
       "   TopoPSA(NO)    ATSC0c  nHetero      MID_h  nHBDon  PEOE_VSA10  nHBAcc  ...  \\\n",
       "0       141.31  1.320560     10.0  19.060046     3.0   17.130826     7.0  ...   \n",
       "1       206.30  2.406565     16.0  30.633874     4.0   11.446551    12.0  ...   \n",
       "2        33.12  0.481581      4.0   7.337494     1.0    5.516701     2.0  ...   \n",
       "3        73.10  0.568644      7.0  13.439480     2.0    0.000000     4.0  ...   \n",
       "4       149.15  2.216727     10.0  18.953495     5.0   30.519832     9.0  ...   \n",
       "\n",
       "     GATS2p  VE1_Dzse  VE1_Dzpe   ATS2Z  VE1_Dzare   VE1_Dzi   VE1_DzZ  \\\n",
       "0  1.079616  5.212883  5.213325  2100.0   5.213752  5.212634  5.207067   \n",
       "1  1.041694  5.905613  5.904109  2843.0   5.902724  5.902382  5.914851   \n",
       "2  0.591202  3.552646  3.553077  1513.0   3.548154  3.548148  3.571093   \n",
       "3  1.069291  4.305903  4.307516  1568.0   4.308483  4.310238  4.293615   \n",
       "4  1.064031  5.660753  5.661139  2868.0   5.661487  5.662368  5.660800   \n",
       "\n",
       "    VE1_Dzm       ZMIC0  BBB_Class  \n",
       "0  5.207055   89.697096          0  \n",
       "1  5.914866  120.950183          0  \n",
       "2  3.571244   49.257975          0  \n",
       "3  4.293574   67.893426          0  \n",
       "4  5.660796  117.423288          0  \n",
       "\n",
       "[5 rows x 294 columns]"
      ]
     },
     "execution_count": 6,
     "metadata": {},
     "output_type": "execute_result"
    }
   ],
   "source": [
    "df.head()"
   ]
  },
  {
   "cell_type": "code",
   "execution_count": 9,
   "id": "a392d034-7c29-49a6-9465-399658355de6",
   "metadata": {},
   "outputs": [],
   "source": [
    "X_desc = df.drop(columns=['SMILES', 'BBB_Class'])\n",
    "y = df['BBB_Class']"
   ]
  },
  {
   "cell_type": "code",
   "execution_count": 11,
   "id": "eea552f5-2000-43c7-960f-a263458cd53a",
   "metadata": {},
   "outputs": [
    {
     "data": {
      "text/html": [
       "<div>\n",
       "<style scoped>\n",
       "    .dataframe tbody tr th:only-of-type {\n",
       "        vertical-align: middle;\n",
       "    }\n",
       "\n",
       "    .dataframe tbody tr th {\n",
       "        vertical-align: top;\n",
       "    }\n",
       "\n",
       "    .dataframe thead th {\n",
       "        text-align: right;\n",
       "    }\n",
       "</style>\n",
       "<table border=\"1\" class=\"dataframe\">\n",
       "  <thead>\n",
       "    <tr style=\"text-align: right;\">\n",
       "      <th></th>\n",
       "      <th>TopoPSA</th>\n",
       "      <th>ATSC1c</th>\n",
       "      <th>TopoPSA(NO)</th>\n",
       "      <th>ATSC0c</th>\n",
       "      <th>nHetero</th>\n",
       "      <th>MID_h</th>\n",
       "      <th>nHBDon</th>\n",
       "      <th>PEOE_VSA10</th>\n",
       "      <th>nHBAcc</th>\n",
       "      <th>ATSC1se</th>\n",
       "      <th>...</th>\n",
       "      <th>GATS1c</th>\n",
       "      <th>GATS2p</th>\n",
       "      <th>VE1_Dzse</th>\n",
       "      <th>VE1_Dzpe</th>\n",
       "      <th>ATS2Z</th>\n",
       "      <th>VE1_Dzare</th>\n",
       "      <th>VE1_Dzi</th>\n",
       "      <th>VE1_DzZ</th>\n",
       "      <th>VE1_Dzm</th>\n",
       "      <th>ZMIC0</th>\n",
       "    </tr>\n",
       "  </thead>\n",
       "  <tbody>\n",
       "    <tr>\n",
       "      <th>0</th>\n",
       "      <td>149.69</td>\n",
       "      <td>-0.869178</td>\n",
       "      <td>141.31</td>\n",
       "      <td>1.32056</td>\n",
       "      <td>10.0</td>\n",
       "      <td>19.060046</td>\n",
       "      <td>3.0</td>\n",
       "      <td>17.130826</td>\n",
       "      <td>7.0</td>\n",
       "      <td>-0.138205</td>\n",
       "      <td>...</td>\n",
       "      <td>1.547752</td>\n",
       "      <td>1.079616</td>\n",
       "      <td>5.212883</td>\n",
       "      <td>5.213325</td>\n",
       "      <td>2100.0</td>\n",
       "      <td>5.213752</td>\n",
       "      <td>5.212634</td>\n",
       "      <td>5.207067</td>\n",
       "      <td>5.207055</td>\n",
       "      <td>89.697096</td>\n",
       "    </tr>\n",
       "  </tbody>\n",
       "</table>\n",
       "<p>1 rows × 292 columns</p>\n",
       "</div>"
      ],
      "text/plain": [
       "   TopoPSA    ATSC1c  TopoPSA(NO)   ATSC0c  nHetero      MID_h  nHBDon  \\\n",
       "0   149.69 -0.869178       141.31  1.32056     10.0  19.060046     3.0   \n",
       "\n",
       "   PEOE_VSA10  nHBAcc   ATSC1se  ...    GATS1c    GATS2p  VE1_Dzse  VE1_Dzpe  \\\n",
       "0   17.130826     7.0 -0.138205  ...  1.547752  1.079616  5.212883  5.213325   \n",
       "\n",
       "    ATS2Z  VE1_Dzare   VE1_Dzi   VE1_DzZ   VE1_Dzm      ZMIC0  \n",
       "0  2100.0   5.213752  5.212634  5.207067  5.207055  89.697096  \n",
       "\n",
       "[1 rows x 292 columns]"
      ]
     },
     "execution_count": 11,
     "metadata": {},
     "output_type": "execute_result"
    }
   ],
   "source": [
    "X_desc.head(1)"
   ]
  },
  {
   "cell_type": "code",
   "execution_count": 13,
   "id": "4c531c6b-b685-44a7-8d06-cf2a821d92b1",
   "metadata": {},
   "outputs": [],
   "source": [
    "import numpy as np\n",
    "def remove_highly_correlated_features(df, threshold=0.85, method='spearman'):\n",
    "\n",
    "    corr_matrix = df.corr(method=method).abs()\n",
    "\n",
    "    upper = corr_matrix.where(np.triu(np.ones(corr_matrix.shape), k=1).astype(bool))\n",
    "\n",
    "    to_drop = [column for column in upper.columns if any(upper[column] > threshold)]\n",
    "\n",
    "    df_reduced = df.drop(columns=to_drop)\n",
    "\n",
    "    return df_reduced, to_drop"
   ]
  },
  {
   "cell_type": "code",
   "execution_count": 15,
   "id": "7ad107b4-8701-4571-b745-7fe207273c0f",
   "metadata": {},
   "outputs": [
    {
     "name": "stdout",
     "output_type": "stream",
     "text": [
      "Dropped features: ['ATSC1c', 'TopoPSA(NO)', 'ATSC0c', 'nHetero', 'MID_h', 'nHBAcc', 'SM1_DzZ', 'AATS5se', 'n4AHRing', 'AATS5are', 'ATSC1are', 'AATS1se', 'SM1_Dzm', 'SM1_Dzse', 'AATS6are', 'AATS6se', 'AATS5pe', 'SM1_Dzv', 'AMID_C', 'AMID_h', 'AATS6pe', 'SM1_Dzare', 'SM1_Dzpe', 'AATS7are', 'AATS7pe', 'ATSC1pe', 'AATS1are', 'SM1_Dzi', 'n4Ring', 'n4ARing', 'AATS8dv', 'AATS1pe', 'AATS6dv', 'AATS7se', 'AATS8are', 'nO', 'AATS8pe', 'MID_O', 'AATS8se', 'AATS5dv', 'AATS7s', 'AATS1s', 'AATS6s', 'AATS3se', 'AATS4se', 'AATS7m', 'AATS0se', 'AATS2se', 'ATS0s', 'AATS8Z', 'SM1_Dzp', 'AATS8m', 'SMR_VSA1', 'AATS3are', 'AATS0are', 'IC0', 'AATS5Z', 'AATS4are', 'AATS6Z', 'AMID_O', 'AATS3s', 'AATS3pe', 'AATS4s', 'AATS5m', 'AATS0pe', 'ATS7dv', 'AATS6m', 'ATS0dv', 'AATS2are', 'MIC5', 'ETA_eta_F', 'AATS4pe', 'AATS2pe', 'ATSC0s', 'AATS2s', 'MIC4', 'EState_VSA1', 'GGI9', 'ATS8m', 'AATS7v', 'mZagreb1', 'NsOH', 'MIC3', 'SpMAD_Dzv', 'AATS0s', 'AATSC1s', 'GGI10', 'AATS4dv', 'ATS0Z', 'ATS1s', 'ATSC0se', 'SpMAD_D', 'ATS8Z', 'Kier3', 'SsOH', 'SpDiam_Dzv', 'AATS4m', 'AATS4Z', 'ATS0m', 'SpAbs_Dzv', 'AATS8d', 'GGI8', 'SpMax_Dzv', 'LogEE_Dzv', 'SpAD_Dzv', 'Kier1', 'ATS8s', 'SpAbs_Dzp', 'AATS0dv', 'ATSC0are', 'SpMAD_Dzp', 'SpDiam_Dzp', 'AATS8v', 'SpDiam_D', 'SpMax_Dzp', 'LogEE_Dzp', 'SpAD_Dzp', 'ATS1m', 'TIC0', 'MIC1', 'SpMax_D', 'LogEE_D', 'Xch-5dv', 'SpAbs_D', 'SpAD_D', 'SdO', 'AATS6d', 'WPath', 'ATS2s', 'NdO', 'MIC2', 'ATSC0pe', 'ATS6dv', 'ETA_eta_B', 'FilterItLogS', 'AATSC0s', 'ATS1Z', 'NsNH2', 'MW', 'Sm', 'ATS7m', 'AATS2Z', 'ATS1dv', 'MID_N', 'ZMIC4', 'ZMIC5', 'AATS3dv', 'SssS', 'ETA_eta_FL', 'SpDiam_Dzi', 'AATS2m', 'ATS5dv', 'SpDiam_Dzse', 'SpDiam_Dzpe', 'SZ', 'SpDiam_Dzare', 'LogEE_Dzi', 'SpMax_Dzi', 'n7FHRing', 'LogEE_Dzse', 'SpMax_Dzse', 'LogEE_Dzpe', 'SpMax_Dzpe', 'SpAD_Dzi', 'SpAD_Dzse', 'SpAD_Dzpe', 'SpAbs_Dzi', 'AATS1Z', 'LogEE_Dzare', 'SpMax_Dzare', 'GGI7', 'SpAbs_Dzse', 'SpAbs_Dzpe', 'ETA_beta_s', 'SpAD_Dzare', 'MIC0', 'SpMAD_Dzi', 'Xp-0d', 'SpAbs_Dzare', 'AATSC0dv', 'SpMAD_Dzpe', 'SpMAD_Dzse', 'ABCGG', 'ATS7Z', 'SpMAD_Dzare', 'MZ', 'mZagreb2', 'AATS1m', 'ECIndex', 'Radius', 'ETA_beta', 'AATS2dv', 'AATS3Z', 'AMW', 'ATSC0dv', 'Mm', 'SpDiam_Dzm', 'SpDiam_DzZ', 'Diameter', 'SpMax_Dzm', 'LogEE_Dzm', 'SpAD_Dzm', 'SpMax_DzZ', 'LogEE_DzZ', 'VR3_A', 'SpAD_DzZ', 'SpAbs_Dzm', 'SpAbs_DzZ', 'TIC1', 'ATS2dv', 'n7FARing', 'n7FRing', 'ATS4dv', 'AATS1dv', 'AATSC2s', 'ATSC0Z', 'ATS2m', 'nHeavyAtom', 'AATS3m', 'ETA_eta_BR', 'VR1_Dt', 'AATS6v', 'VE1_Dzp', 'VE1_Dzv', 'VE1_D', 'VE1_Dzse', 'VE1_Dzpe', 'ATS2Z', 'VE1_Dzare', 'VE1_Dzi', 'VE1_DzZ', 'VE1_Dzm', 'ZMIC0']\n"
     ]
    }
   ],
   "source": [
    "X_uncorrelated, dropped_features = remove_highly_correlated_features(X_desc, threshold=0.85, method='spearman')\n",
    "print(\"Dropped features:\", dropped_features)"
   ]
  },
  {
   "cell_type": "code",
   "execution_count": 17,
   "id": "d8971d93-ef10-420b-82b2-7765e38f3f20",
   "metadata": {},
   "outputs": [
    {
     "name": "stdout",
     "output_type": "stream",
     "text": [
      "Original features (after variance filter): 292\n",
      "Remaining features (after correlation filter): 59\n",
      "Features removed due to high correlation: 233\n"
     ]
    }
   ],
   "source": [
    "print(f\"Original features (after variance filter): {X_desc.shape[1]}\")\n",
    "print(f\"Remaining features (after correlation filter): {X_uncorrelated.shape[1]}\")\n",
    "print(f\"Features removed due to high correlation: {len(dropped_features)}\")"
   ]
  },
  {
   "cell_type": "code",
   "execution_count": 19,
   "id": "1a992d79-c742-4e9e-8d46-37482c117ce4",
   "metadata": {},
   "outputs": [],
   "source": [
    "from sklearn.model_selection import train_test_split\n",
    "\n",
    "X_train, X_test, y_train, y_test = train_test_split(X_uncorrelated, y, test_size=0.2, random_state=42, stratify=y)"
   ]
  },
  {
   "cell_type": "code",
   "execution_count": 21,
   "id": "b814bced-137f-4bb3-9b42-91e32186c31c",
   "metadata": {},
   "outputs": [],
   "source": [
    "scaler = StandardScaler()\n",
    "X_train = scaler.fit_transform(X_train)\n",
    "X_test = scaler.transform(X_test)"
   ]
  },
  {
   "cell_type": "code",
   "execution_count": 25,
   "id": "bd6af766-6958-409b-9e97-d806ae19cbde",
   "metadata": {},
   "outputs": [],
   "source": [
    "# Convert to tensors\n",
    "X_train_tensor = torch.tensor(X_train, dtype=torch.float32)\n",
    "y_train_tensor = torch.tensor(y_train.values, dtype=torch.float32).unsqueeze(1)\n",
    "X_test_tensor = torch.tensor(X_test, dtype=torch.float32)\n",
    "y_test_tensor = torch.tensor(y_test.values, dtype=torch.float32).unsqueeze(1)"
   ]
  },
  {
   "cell_type": "code",
   "execution_count": 27,
   "id": "d6ba39c1-4e2c-45d0-9141-c502b075aeed",
   "metadata": {},
   "outputs": [],
   "source": [
    "train_dataset = TensorDataset(X_train_tensor, y_train_tensor)\n",
    "train_loader = DataLoader(train_dataset, batch_size=32, shuffle=True)"
   ]
  },
  {
   "cell_type": "code",
   "execution_count": 29,
   "id": "b3b84946-ddaf-4ee7-9701-324ac3c0012c",
   "metadata": {},
   "outputs": [],
   "source": [
    "class MLPModel(nn.Module):\n",
    "    def __init__(self, input_dim):\n",
    "        super(MLPModel, self).__init__()\n",
    "        self.fc = nn.Sequential(\n",
    "            nn.Linear(input_dim, 64),\n",
    "            nn.ReLU(),\n",
    "            nn.Dropout(0.3),\n",
    "            nn.Linear(64, 32),\n",
    "            nn.ReLU(),\n",
    "            nn.Linear(32, 1),\n",
    "            nn.Sigmoid()\n",
    "        )\n",
    "\n",
    "    def forward(self, x):\n",
    "        return self.fc(x)\n",
    "\n",
    "model = MLPModel(input_dim=X_train.shape[1])"
   ]
  },
  {
   "cell_type": "code",
   "execution_count": 31,
   "id": "1e805567-7491-4490-ae48-f7fb40ecd836",
   "metadata": {},
   "outputs": [
    {
     "name": "stdout",
     "output_type": "stream",
     "text": [
      "Epoch 1/50, Loss: 0.4629\n",
      "Epoch 2/50, Loss: 0.3961\n",
      "Epoch 3/50, Loss: 0.3774\n",
      "Epoch 4/50, Loss: 0.3625\n",
      "Epoch 5/50, Loss: 0.3543\n",
      "Epoch 6/50, Loss: 0.3463\n",
      "Epoch 7/50, Loss: 0.3343\n",
      "Epoch 8/50, Loss: 0.3325\n",
      "Epoch 9/50, Loss: 0.3314\n",
      "Epoch 10/50, Loss: 0.3220\n",
      "Epoch 11/50, Loss: 0.3133\n",
      "Epoch 12/50, Loss: 0.3097\n",
      "Epoch 13/50, Loss: 0.3061\n",
      "Epoch 14/50, Loss: 0.3004\n",
      "Epoch 15/50, Loss: 0.2950\n",
      "Epoch 16/50, Loss: 0.2910\n",
      "Epoch 17/50, Loss: 0.2909\n",
      "Epoch 18/50, Loss: 0.2828\n",
      "Epoch 19/50, Loss: 0.2806\n",
      "Epoch 20/50, Loss: 0.2774\n",
      "Epoch 21/50, Loss: 0.2716\n",
      "Epoch 22/50, Loss: 0.2661\n",
      "Epoch 23/50, Loss: 0.2649\n",
      "Epoch 24/50, Loss: 0.2622\n",
      "Epoch 25/50, Loss: 0.2542\n",
      "Epoch 26/50, Loss: 0.2582\n",
      "Epoch 27/50, Loss: 0.2519\n",
      "Epoch 28/50, Loss: 0.2502\n",
      "Epoch 29/50, Loss: 0.2504\n",
      "Epoch 30/50, Loss: 0.2460\n",
      "Epoch 31/50, Loss: 0.2435\n",
      "Epoch 32/50, Loss: 0.2359\n",
      "Epoch 33/50, Loss: 0.2407\n",
      "Epoch 34/50, Loss: 0.2341\n",
      "Epoch 35/50, Loss: 0.2323\n",
      "Epoch 36/50, Loss: 0.2364\n",
      "Epoch 37/50, Loss: 0.2274\n",
      "Epoch 38/50, Loss: 0.2365\n",
      "Epoch 39/50, Loss: 0.2247\n",
      "Epoch 40/50, Loss: 0.2223\n",
      "Epoch 41/50, Loss: 0.2197\n",
      "Epoch 42/50, Loss: 0.2265\n",
      "Epoch 43/50, Loss: 0.2210\n",
      "Epoch 44/50, Loss: 0.2146\n",
      "Epoch 45/50, Loss: 0.2194\n",
      "Epoch 46/50, Loss: 0.2156\n",
      "Epoch 47/50, Loss: 0.2189\n",
      "Epoch 48/50, Loss: 0.2113\n",
      "Epoch 49/50, Loss: 0.2164\n",
      "Epoch 50/50, Loss: 0.2144\n"
     ]
    }
   ],
   "source": [
    "criterion = nn.BCELoss()\n",
    "optimizer = optim.Adam(model.parameters(), lr=0.001)\n",
    "\n",
    "epochs = 50\n",
    "for epoch in range(epochs):\n",
    "    model.train()\n",
    "    running_loss = 0.0\n",
    "    for X_batch, y_batch in train_loader:\n",
    "        optimizer.zero_grad()\n",
    "        outputs = model(X_batch)\n",
    "        loss = criterion(outputs, y_batch)\n",
    "        loss.backward()\n",
    "        optimizer.step()\n",
    "        running_loss += loss.item()\n",
    "    \n",
    "    print(f\"Epoch {epoch+1}/{epochs}, Loss: {running_loss/len(train_loader):.4f}\")"
   ]
  },
  {
   "cell_type": "code",
   "execution_count": 32,
   "id": "6597718d-371a-4f1a-8f37-479d009780d5",
   "metadata": {},
   "outputs": [
    {
     "name": "stdout",
     "output_type": "stream",
     "text": [
      "Accuracy: 0.8815\n",
      "AUC: 0.9428\n",
      "MCC: 0.7443\n"
     ]
    }
   ],
   "source": [
    "model.eval()\n",
    "with torch.no_grad():\n",
    "    y_pred_proba = model(X_test_tensor).numpy()\n",
    "    y_pred_class = (y_pred_proba > 0.5).astype(int)\n",
    "\n",
    "acc = accuracy_score(y_test, y_pred_class)\n",
    "auc = roc_auc_score(y_test, y_pred_proba)\n",
    "mcc = matthews_corrcoef(y_test, y_pred_class)\n",
    "\n",
    "print(f\"Accuracy: {acc:.4f}\")\n",
    "print(f\"AUC: {auc:.4f}\")\n",
    "print(f\"MCC: {mcc:.4f}\")"
   ]
  },
  {
   "cell_type": "markdown",
   "id": "f530e612-fb16-439b-baaf-c60473757f6f",
   "metadata": {},
   "source": [
    "### Applying GCN"
   ]
  },
  {
   "cell_type": "code",
   "execution_count": 8,
   "id": "a6cfdd6c-bcf3-438f-a410-c8147e0c468a",
   "metadata": {},
   "outputs": [
    {
     "name": "stderr",
     "output_type": "stream",
     "text": [
      "C:\\Users\\vivek\\anaconda3\\envs\\pytorch-env\\lib\\site-packages\\tqdm\\auto.py:21: TqdmWarning: IProgress not found. Please update jupyter and ipywidgets. See https://ipywidgets.readthedocs.io/en/stable/user_install.html\n",
      "  from .autonotebook import tqdm as notebook_tqdm\n"
     ]
    }
   ],
   "source": [
    "import torch\n",
    "import torch.nn as nn\n",
    "import torch.nn.functional as F\n",
    "from torch_geometric.data import Data, DataLoader\n",
    "from torch_geometric.nn import GCNConv, global_mean_pool\n",
    "from sklearn.model_selection import train_test_split\n",
    "from sklearn.metrics import matthews_corrcoef, roc_auc_score, accuracy_score, f1_score\n",
    "from rdkit import Chem"
   ]
  },
  {
   "cell_type": "code",
   "execution_count": 9,
   "id": "f58a8b2a-068c-470d-8afb-95039e17b30f",
   "metadata": {},
   "outputs": [],
   "source": [
    "df[\"label\"] = df[\"BBB_Class\"]"
   ]
  },
  {
   "cell_type": "code",
   "execution_count": 26,
   "id": "96683cc7-9594-4bc7-a33d-c0b34a3eacef",
   "metadata": {},
   "outputs": [],
   "source": [
    "# SMILES → Graph\n",
    "\n",
    "def mol_to_graph(smiles, label):\n",
    "    mol = Chem.MolFromSmiles(smiles)\n",
    "    if mol is None:\n",
    "        return None\n",
    "    \n",
    "    # Node features: atom number only for now\n",
    "    atom_features = []\n",
    "    for atom in mol.GetAtoms():\n",
    "        atom_features.append([atom.GetAtomicNum()])\n",
    "    x = torch.tensor(atom_features, dtype=torch.float)\n",
    "\n",
    "    # Edges\n",
    "    edge_index = []\n",
    "    for bond in mol.GetBonds():\n",
    "        i = bond.GetBeginAtomIdx()\n",
    "        j = bond.GetEndAtomIdx()\n",
    "        edge_index.append([i, j])\n",
    "        edge_index.append([j, i])\n",
    "    edge_index = torch.tensor(edge_index, dtype=torch.long).t().contiguous()\n",
    "\n",
    "    y = torch.tensor([label], dtype=torch.float)\n",
    "    return Data(x=x, edge_index=edge_index, y=y)"
   ]
  },
  {
   "cell_type": "code",
   "execution_count": 28,
   "id": "2ec9c883-6f35-480a-aef9-1d3a3233e79d",
   "metadata": {},
   "outputs": [
    {
     "name": "stderr",
     "output_type": "stream",
     "text": [
      "[08:21:58] Explicit valence for atom # 10 C, 4, is greater than permitted\n",
      "[08:22:01] Explicit valence for atom # 10 C, 4, is greater than permitted\n"
     ]
    }
   ],
   "source": [
    "# Create valid graph list\n",
    "valid_graphs = []\n",
    "valid_labels = []\n",
    "for smiles, label in zip(df[\"SMILES\"], df[\"label\"]):\n",
    "    graph = mol_to_graph(smiles, label)\n",
    "    if graph:\n",
    "        valid_graphs.append(graph)\n",
    "        valid_labels.append(label)\n",
    "\n",
    "valid_labels = torch.tensor(valid_labels, dtype=torch.long)"
   ]
  },
  {
   "cell_type": "code",
   "execution_count": 30,
   "id": "72b841ef-91bb-47d3-a7b4-1b6d9ccb092d",
   "metadata": {},
   "outputs": [
    {
     "name": "stderr",
     "output_type": "stream",
     "text": [
      "C:\\Users\\vivek\\anaconda3\\envs\\pytorch-env\\lib\\site-packages\\torch_geometric\\deprecation.py:26: UserWarning: 'data.DataLoader' is deprecated, use 'loader.DataLoader' instead\n",
      "  warnings.warn(out)\n"
     ]
    }
   ],
   "source": [
    "train_idx, test_idx = train_test_split(range(len(valid_graphs)),test_size=0.2,stratify=valid_labels,random_state=42)\n",
    "\n",
    "train_loader = DataLoader([valid_graphs[i] for i in train_idx], batch_size=32, shuffle=True)\n",
    "test_loader = DataLoader([valid_graphs[i] for i in test_idx], batch_size=32)"
   ]
  },
  {
   "cell_type": "code",
   "execution_count": 32,
   "id": "744a221a-21d9-4efa-a8a2-1ac7c0b7281a",
   "metadata": {},
   "outputs": [],
   "source": [
    "# GCN model\n",
    "class GCN(nn.Module):\n",
    "    def __init__(self, num_node_features):\n",
    "        super(GCN, self).__init__()\n",
    "        self.conv1 = GCNConv(num_node_features, 64)\n",
    "        self.conv2 = GCNConv(64, 64)\n",
    "        self.fc = nn.Linear(64, 1)\n",
    "\n",
    "    def forward(self, x, edge_index, batch):\n",
    "        x = self.conv1(x, edge_index)\n",
    "        x = F.relu(x)\n",
    "        x = self.conv2(x, edge_index)\n",
    "        x = global_mean_pool(x, batch)  # Pooling\n",
    "        x = self.fc(x)\n",
    "        return torch.sigmoid(x)"
   ]
  },
  {
   "cell_type": "code",
   "execution_count": 34,
   "id": "b915c8c8-a77f-49a7-b767-ebb61caf8f66",
   "metadata": {},
   "outputs": [
    {
     "name": "stdout",
     "output_type": "stream",
     "text": [
      "Epoch 1, Loss: 0.6588\n",
      "Epoch 2, Loss: 0.6600\n",
      "Epoch 3, Loss: 0.6553\n",
      "Epoch 4, Loss: 0.6546\n",
      "Epoch 5, Loss: 0.6547\n",
      "Epoch 6, Loss: 0.6536\n",
      "Epoch 7, Loss: 0.6531\n",
      "Epoch 8, Loss: 0.6533\n",
      "Epoch 9, Loss: 0.6525\n",
      "Epoch 10, Loss: 0.6519\n",
      "Epoch 11, Loss: 0.6514\n",
      "Epoch 12, Loss: 0.6484\n",
      "Epoch 13, Loss: 0.6464\n",
      "Epoch 14, Loss: 0.6478\n",
      "Epoch 15, Loss: 0.6482\n",
      "Epoch 16, Loss: 0.6471\n",
      "Epoch 17, Loss: 0.6450\n",
      "Epoch 18, Loss: 0.6442\n",
      "Epoch 19, Loss: 0.6411\n",
      "Epoch 20, Loss: 0.6418\n",
      "Epoch 21, Loss: 0.6404\n",
      "Epoch 22, Loss: 0.6415\n",
      "Epoch 23, Loss: 0.6417\n",
      "Epoch 24, Loss: 0.6389\n",
      "Epoch 25, Loss: 0.6380\n",
      "Epoch 26, Loss: 0.6398\n",
      "Epoch 27, Loss: 0.6381\n",
      "Epoch 28, Loss: 0.6403\n",
      "Epoch 29, Loss: 0.6415\n",
      "Epoch 30, Loss: 0.6385\n"
     ]
    }
   ],
   "source": [
    "# Training loop\n",
    "device = torch.device(\"cuda\" if torch.cuda.is_available() else \"cpu\")\n",
    "model = GCN(num_node_features=1).to(device)  # Atom number only\n",
    "optimizer = torch.optim.Adam(model.parameters(), lr=0.001)\n",
    "criterion = nn.BCELoss()\n",
    "\n",
    "for epoch in range(30):\n",
    "    model.train()\n",
    "    total_loss = 0\n",
    "    for batch in train_loader:\n",
    "        batch = batch.to(device)\n",
    "        optimizer.zero_grad()\n",
    "        out = model(batch.x, batch.edge_index, batch.batch)\n",
    "        loss = criterion(out.view(-1), batch.y)\n",
    "        loss.backward()\n",
    "        optimizer.step()\n",
    "        total_loss += loss.item()\n",
    "    print(f\"Epoch {epoch+1}, Loss: {total_loss/len(train_loader):.4f}\")"
   ]
  },
  {
   "cell_type": "code",
   "execution_count": 35,
   "id": "1ccb8e58-6e15-4937-9a95-15776577ff15",
   "metadata": {},
   "outputs": [],
   "source": [
    "# Evaluation\n",
    "model.eval()\n",
    "y_true, y_pred_prob = [], []\n",
    "with torch.no_grad():\n",
    "    for batch in test_loader:\n",
    "        batch = batch.to(device)\n",
    "        out = model(batch.x, batch.edge_index, batch.batch)\n",
    "        y_true.extend(batch.y.cpu().numpy())\n",
    "        y_pred_prob.extend(out.view(-1).cpu().numpy())"
   ]
  },
  {
   "cell_type": "code",
   "execution_count": 57,
   "id": "64867051-4bcd-440d-8b0f-0c421270a6bc",
   "metadata": {},
   "outputs": [
    {
     "name": "stdout",
     "output_type": "stream",
     "text": [
      "Best Threshold: 0.570\n",
      "AUC: 0.6840\n",
      "MCC: 0.3046\n",
      "Acc: 0.6849\n",
      "F1: 0.7589\n"
     ]
    }
   ],
   "source": [
    "# Best threshold by MCC\n",
    "best_mcc, best_t = -1, None\n",
    "for t in torch.arange(0.0, 1.0, 0.01):\n",
    "    t = t.item()\n",
    "    preds = (torch.tensor(y_pred_prob) >= t).int()\n",
    "    mcc = matthews_corrcoef(y_true, preds)\n",
    "    if mcc > best_mcc:\n",
    "        best_mcc, best_t = mcc, t\n",
    "\n",
    "y_pred = (torch.tensor(y_pred_prob) >= best_t).int()\n",
    "\n",
    "print(f\"Best Threshold: {best_t:.3f}\")\n",
    "print(f\"AUC: {roc_auc_score(y_true, y_pred_prob):.4f}\")\n",
    "print(f\"MCC: {best_mcc:.4f}\")\n",
    "print(f\"Acc: {accuracy_score(y_true, y_pred):.4f}\")\n",
    "print(f\"F1: {f1_score(y_true, y_pred):.4f}\")"
   ]
  },
  {
   "cell_type": "code",
   "execution_count": null,
   "id": "72f5fbcf-d533-46da-b8be-88ad59aea5b8",
   "metadata": {},
   "outputs": [],
   "source": []
  }
 ],
 "metadata": {
  "kernelspec": {
   "display_name": "Python (PyTorch + RDKit)",
   "language": "python",
   "name": "pytorch-env"
  },
  "language_info": {
   "codemirror_mode": {
    "name": "ipython",
    "version": 3
   },
   "file_extension": ".py",
   "mimetype": "text/x-python",
   "name": "python",
   "nbconvert_exporter": "python",
   "pygments_lexer": "ipython3",
   "version": "3.10.18"
  }
 },
 "nbformat": 4,
 "nbformat_minor": 5
}
